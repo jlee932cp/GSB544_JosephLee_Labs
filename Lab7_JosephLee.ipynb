{
 "cells": [
  {
   "cell_type": "raw",
   "metadata": {
    "colab": {
     "base_uri": "https://localhost:8080/",
     "height": 141
    },
    "id": "Y4bj1PCjilJu",
    "outputId": "4722d8fc-8d2b-45cd-a600-fea975006b71"
   },
   "source": [
    "---\n",
    "self-contained: true\n",
    "title: \"GSB544 Lab 7: Heart Attack\"\n",
    "author: Joseph Lee\n",
    "date: 11/23/2023\n",
    "format:\n",
    "    html:\n",
    "        theme: \"journal\"\n",
    "---"
   ]
  },
  {
   "cell_type": "markdown",
   "metadata": {
    "colab": {
     "base_uri": "https://localhost:8080/"
    },
    "id": "kyRqlT6zik82",
    "outputId": "a46cbef3-2273-40a8-f6b3-859499ead205"
   },
   "source": [
    "![](heart_attack_banner.jpeg){fig-align=\"center\"}"
   ]
  },
  {
   "cell_type": "code",
   "execution_count": 169,
   "metadata": {
    "id": "U23UKnAijG8i"
   },
   "outputs": [],
   "source": [
    "# Importing the dataset\n",
    "import pandas as pd\n",
    "\n",
    "ha = pd.read_csv(\"https://www.dropbox.com/s/aohbr6yb9ifmc8w/heart_attack.csv?dl=1\")"
   ]
  },
  {
   "cell_type": "code",
   "execution_count": 170,
   "metadata": {
    "colab": {
     "base_uri": "https://localhost:8080/",
     "height": 423
    },
    "id": "pWZgR9yJjTR6",
    "outputId": "8d3e53fd-fcfa-44a9-8d5c-ab4cb9b55044"
   },
   "outputs": [
    {
     "data": {
      "text/html": [
       "\n",
       "  <div id=\"df-0053fcfa-d2d7-47c1-be62-a030a9a6a877\" class=\"colab-df-container\">\n",
       "    <div>\n",
       "<style scoped>\n",
       "    .dataframe tbody tr th:only-of-type {\n",
       "        vertical-align: middle;\n",
       "    }\n",
       "\n",
       "    .dataframe tbody tr th {\n",
       "        vertical-align: top;\n",
       "    }\n",
       "\n",
       "    .dataframe thead th {\n",
       "        text-align: right;\n",
       "    }\n",
       "</style>\n",
       "<table border=\"1\" class=\"dataframe\">\n",
       "  <thead>\n",
       "    <tr style=\"text-align: right;\">\n",
       "      <th></th>\n",
       "      <th>age</th>\n",
       "      <th>sex</th>\n",
       "      <th>cp</th>\n",
       "      <th>trtbps</th>\n",
       "      <th>chol</th>\n",
       "      <th>restecg</th>\n",
       "      <th>thalach</th>\n",
       "      <th>output</th>\n",
       "    </tr>\n",
       "  </thead>\n",
       "  <tbody>\n",
       "    <tr>\n",
       "      <th>0</th>\n",
       "      <td>63</td>\n",
       "      <td>1</td>\n",
       "      <td>3</td>\n",
       "      <td>145</td>\n",
       "      <td>233</td>\n",
       "      <td>0</td>\n",
       "      <td>150</td>\n",
       "      <td>1</td>\n",
       "    </tr>\n",
       "    <tr>\n",
       "      <th>1</th>\n",
       "      <td>37</td>\n",
       "      <td>1</td>\n",
       "      <td>2</td>\n",
       "      <td>130</td>\n",
       "      <td>250</td>\n",
       "      <td>1</td>\n",
       "      <td>187</td>\n",
       "      <td>1</td>\n",
       "    </tr>\n",
       "    <tr>\n",
       "      <th>2</th>\n",
       "      <td>56</td>\n",
       "      <td>1</td>\n",
       "      <td>1</td>\n",
       "      <td>120</td>\n",
       "      <td>236</td>\n",
       "      <td>1</td>\n",
       "      <td>178</td>\n",
       "      <td>1</td>\n",
       "    </tr>\n",
       "    <tr>\n",
       "      <th>3</th>\n",
       "      <td>57</td>\n",
       "      <td>0</td>\n",
       "      <td>0</td>\n",
       "      <td>120</td>\n",
       "      <td>354</td>\n",
       "      <td>1</td>\n",
       "      <td>163</td>\n",
       "      <td>1</td>\n",
       "    </tr>\n",
       "    <tr>\n",
       "      <th>4</th>\n",
       "      <td>57</td>\n",
       "      <td>1</td>\n",
       "      <td>0</td>\n",
       "      <td>140</td>\n",
       "      <td>192</td>\n",
       "      <td>1</td>\n",
       "      <td>148</td>\n",
       "      <td>1</td>\n",
       "    </tr>\n",
       "    <tr>\n",
       "      <th>...</th>\n",
       "      <td>...</td>\n",
       "      <td>...</td>\n",
       "      <td>...</td>\n",
       "      <td>...</td>\n",
       "      <td>...</td>\n",
       "      <td>...</td>\n",
       "      <td>...</td>\n",
       "      <td>...</td>\n",
       "    </tr>\n",
       "    <tr>\n",
       "      <th>268</th>\n",
       "      <td>59</td>\n",
       "      <td>1</td>\n",
       "      <td>0</td>\n",
       "      <td>164</td>\n",
       "      <td>176</td>\n",
       "      <td>0</td>\n",
       "      <td>90</td>\n",
       "      <td>0</td>\n",
       "    </tr>\n",
       "    <tr>\n",
       "      <th>269</th>\n",
       "      <td>57</td>\n",
       "      <td>0</td>\n",
       "      <td>0</td>\n",
       "      <td>140</td>\n",
       "      <td>241</td>\n",
       "      <td>1</td>\n",
       "      <td>123</td>\n",
       "      <td>0</td>\n",
       "    </tr>\n",
       "    <tr>\n",
       "      <th>270</th>\n",
       "      <td>45</td>\n",
       "      <td>1</td>\n",
       "      <td>3</td>\n",
       "      <td>110</td>\n",
       "      <td>264</td>\n",
       "      <td>1</td>\n",
       "      <td>132</td>\n",
       "      <td>0</td>\n",
       "    </tr>\n",
       "    <tr>\n",
       "      <th>271</th>\n",
       "      <td>68</td>\n",
       "      <td>1</td>\n",
       "      <td>0</td>\n",
       "      <td>144</td>\n",
       "      <td>193</td>\n",
       "      <td>1</td>\n",
       "      <td>141</td>\n",
       "      <td>0</td>\n",
       "    </tr>\n",
       "    <tr>\n",
       "      <th>272</th>\n",
       "      <td>57</td>\n",
       "      <td>0</td>\n",
       "      <td>1</td>\n",
       "      <td>130</td>\n",
       "      <td>236</td>\n",
       "      <td>0</td>\n",
       "      <td>174</td>\n",
       "      <td>0</td>\n",
       "    </tr>\n",
       "  </tbody>\n",
       "</table>\n",
       "<p>273 rows × 8 columns</p>\n",
       "</div>\n",
       "    <div class=\"colab-df-buttons\">\n",
       "\n",
       "  <div class=\"colab-df-container\">\n",
       "    <button class=\"colab-df-convert\" onclick=\"convertToInteractive('df-0053fcfa-d2d7-47c1-be62-a030a9a6a877')\"\n",
       "            title=\"Convert this dataframe to an interactive table.\"\n",
       "            style=\"display:none;\">\n",
       "\n",
       "  <svg xmlns=\"http://www.w3.org/2000/svg\" height=\"24px\" viewBox=\"0 -960 960 960\">\n",
       "    <path d=\"M120-120v-720h720v720H120Zm60-500h600v-160H180v160Zm220 220h160v-160H400v160Zm0 220h160v-160H400v160ZM180-400h160v-160H180v160Zm440 0h160v-160H620v160ZM180-180h160v-160H180v160Zm440 0h160v-160H620v160Z\"/>\n",
       "  </svg>\n",
       "    </button>\n",
       "\n",
       "  <style>\n",
       "    .colab-df-container {\n",
       "      display:flex;\n",
       "      gap: 12px;\n",
       "    }\n",
       "\n",
       "    .colab-df-convert {\n",
       "      background-color: #E8F0FE;\n",
       "      border: none;\n",
       "      border-radius: 50%;\n",
       "      cursor: pointer;\n",
       "      display: none;\n",
       "      fill: #1967D2;\n",
       "      height: 32px;\n",
       "      padding: 0 0 0 0;\n",
       "      width: 32px;\n",
       "    }\n",
       "\n",
       "    .colab-df-convert:hover {\n",
       "      background-color: #E2EBFA;\n",
       "      box-shadow: 0px 1px 2px rgba(60, 64, 67, 0.3), 0px 1px 3px 1px rgba(60, 64, 67, 0.15);\n",
       "      fill: #174EA6;\n",
       "    }\n",
       "\n",
       "    .colab-df-buttons div {\n",
       "      margin-bottom: 4px;\n",
       "    }\n",
       "\n",
       "    [theme=dark] .colab-df-convert {\n",
       "      background-color: #3B4455;\n",
       "      fill: #D2E3FC;\n",
       "    }\n",
       "\n",
       "    [theme=dark] .colab-df-convert:hover {\n",
       "      background-color: #434B5C;\n",
       "      box-shadow: 0px 1px 3px 1px rgba(0, 0, 0, 0.15);\n",
       "      filter: drop-shadow(0px 1px 2px rgba(0, 0, 0, 0.3));\n",
       "      fill: #FFFFFF;\n",
       "    }\n",
       "  </style>\n",
       "\n",
       "    <script>\n",
       "      const buttonEl =\n",
       "        document.querySelector('#df-0053fcfa-d2d7-47c1-be62-a030a9a6a877 button.colab-df-convert');\n",
       "      buttonEl.style.display =\n",
       "        google.colab.kernel.accessAllowed ? 'block' : 'none';\n",
       "\n",
       "      async function convertToInteractive(key) {\n",
       "        const element = document.querySelector('#df-0053fcfa-d2d7-47c1-be62-a030a9a6a877');\n",
       "        const dataTable =\n",
       "          await google.colab.kernel.invokeFunction('convertToInteractive',\n",
       "                                                    [key], {});\n",
       "        if (!dataTable) return;\n",
       "\n",
       "        const docLinkHtml = 'Like what you see? Visit the ' +\n",
       "          '<a target=\"_blank\" href=https://colab.research.google.com/notebooks/data_table.ipynb>data table notebook</a>'\n",
       "          + ' to learn more about interactive tables.';\n",
       "        element.innerHTML = '';\n",
       "        dataTable['output_type'] = 'display_data';\n",
       "        await google.colab.output.renderOutput(dataTable, element);\n",
       "        const docLink = document.createElement('div');\n",
       "        docLink.innerHTML = docLinkHtml;\n",
       "        element.appendChild(docLink);\n",
       "      }\n",
       "    </script>\n",
       "  </div>\n",
       "\n",
       "\n",
       "<div id=\"df-a41da0c5-1a68-4152-b39e-71e83c4ef420\">\n",
       "  <button class=\"colab-df-quickchart\" onclick=\"quickchart('df-a41da0c5-1a68-4152-b39e-71e83c4ef420')\"\n",
       "            title=\"Suggest charts\"\n",
       "            style=\"display:none;\">\n",
       "\n",
       "<svg xmlns=\"http://www.w3.org/2000/svg\" height=\"24px\"viewBox=\"0 0 24 24\"\n",
       "     width=\"24px\">\n",
       "    <g>\n",
       "        <path d=\"M19 3H5c-1.1 0-2 .9-2 2v14c0 1.1.9 2 2 2h14c1.1 0 2-.9 2-2V5c0-1.1-.9-2-2-2zM9 17H7v-7h2v7zm4 0h-2V7h2v10zm4 0h-2v-4h2v4z\"/>\n",
       "    </g>\n",
       "</svg>\n",
       "  </button>\n",
       "\n",
       "<style>\n",
       "  .colab-df-quickchart {\n",
       "      --bg-color: #E8F0FE;\n",
       "      --fill-color: #1967D2;\n",
       "      --hover-bg-color: #E2EBFA;\n",
       "      --hover-fill-color: #174EA6;\n",
       "      --disabled-fill-color: #AAA;\n",
       "      --disabled-bg-color: #DDD;\n",
       "  }\n",
       "\n",
       "  [theme=dark] .colab-df-quickchart {\n",
       "      --bg-color: #3B4455;\n",
       "      --fill-color: #D2E3FC;\n",
       "      --hover-bg-color: #434B5C;\n",
       "      --hover-fill-color: #FFFFFF;\n",
       "      --disabled-bg-color: #3B4455;\n",
       "      --disabled-fill-color: #666;\n",
       "  }\n",
       "\n",
       "  .colab-df-quickchart {\n",
       "    background-color: var(--bg-color);\n",
       "    border: none;\n",
       "    border-radius: 50%;\n",
       "    cursor: pointer;\n",
       "    display: none;\n",
       "    fill: var(--fill-color);\n",
       "    height: 32px;\n",
       "    padding: 0;\n",
       "    width: 32px;\n",
       "  }\n",
       "\n",
       "  .colab-df-quickchart:hover {\n",
       "    background-color: var(--hover-bg-color);\n",
       "    box-shadow: 0 1px 2px rgba(60, 64, 67, 0.3), 0 1px 3px 1px rgba(60, 64, 67, 0.15);\n",
       "    fill: var(--button-hover-fill-color);\n",
       "  }\n",
       "\n",
       "  .colab-df-quickchart-complete:disabled,\n",
       "  .colab-df-quickchart-complete:disabled:hover {\n",
       "    background-color: var(--disabled-bg-color);\n",
       "    fill: var(--disabled-fill-color);\n",
       "    box-shadow: none;\n",
       "  }\n",
       "\n",
       "  .colab-df-spinner {\n",
       "    border: 2px solid var(--fill-color);\n",
       "    border-color: transparent;\n",
       "    border-bottom-color: var(--fill-color);\n",
       "    animation:\n",
       "      spin 1s steps(1) infinite;\n",
       "  }\n",
       "\n",
       "  @keyframes spin {\n",
       "    0% {\n",
       "      border-color: transparent;\n",
       "      border-bottom-color: var(--fill-color);\n",
       "      border-left-color: var(--fill-color);\n",
       "    }\n",
       "    20% {\n",
       "      border-color: transparent;\n",
       "      border-left-color: var(--fill-color);\n",
       "      border-top-color: var(--fill-color);\n",
       "    }\n",
       "    30% {\n",
       "      border-color: transparent;\n",
       "      border-left-color: var(--fill-color);\n",
       "      border-top-color: var(--fill-color);\n",
       "      border-right-color: var(--fill-color);\n",
       "    }\n",
       "    40% {\n",
       "      border-color: transparent;\n",
       "      border-right-color: var(--fill-color);\n",
       "      border-top-color: var(--fill-color);\n",
       "    }\n",
       "    60% {\n",
       "      border-color: transparent;\n",
       "      border-right-color: var(--fill-color);\n",
       "    }\n",
       "    80% {\n",
       "      border-color: transparent;\n",
       "      border-right-color: var(--fill-color);\n",
       "      border-bottom-color: var(--fill-color);\n",
       "    }\n",
       "    90% {\n",
       "      border-color: transparent;\n",
       "      border-bottom-color: var(--fill-color);\n",
       "    }\n",
       "  }\n",
       "</style>\n",
       "\n",
       "  <script>\n",
       "    async function quickchart(key) {\n",
       "      const quickchartButtonEl =\n",
       "        document.querySelector('#' + key + ' button');\n",
       "      quickchartButtonEl.disabled = true;  // To prevent multiple clicks.\n",
       "      quickchartButtonEl.classList.add('colab-df-spinner');\n",
       "      try {\n",
       "        const charts = await google.colab.kernel.invokeFunction(\n",
       "            'suggestCharts', [key], {});\n",
       "      } catch (error) {\n",
       "        console.error('Error during call to suggestCharts:', error);\n",
       "      }\n",
       "      quickchartButtonEl.classList.remove('colab-df-spinner');\n",
       "      quickchartButtonEl.classList.add('colab-df-quickchart-complete');\n",
       "    }\n",
       "    (() => {\n",
       "      let quickchartButtonEl =\n",
       "        document.querySelector('#df-a41da0c5-1a68-4152-b39e-71e83c4ef420 button');\n",
       "      quickchartButtonEl.style.display =\n",
       "        google.colab.kernel.accessAllowed ? 'block' : 'none';\n",
       "    })();\n",
       "  </script>\n",
       "</div>\n",
       "    </div>\n",
       "  </div>\n"
      ],
      "text/plain": [
       "     age  sex  cp  trtbps  chol  restecg  thalach  output\n",
       "0     63    1   3     145   233        0      150       1\n",
       "1     37    1   2     130   250        1      187       1\n",
       "2     56    1   1     120   236        1      178       1\n",
       "3     57    0   0     120   354        1      163       1\n",
       "4     57    1   0     140   192        1      148       1\n",
       "..   ...  ...  ..     ...   ...      ...      ...     ...\n",
       "268   59    1   0     164   176        0       90       0\n",
       "269   57    0   0     140   241        1      123       0\n",
       "270   45    1   3     110   264        1      132       0\n",
       "271   68    1   0     144   193        1      141       0\n",
       "272   57    0   1     130   236        0      174       0\n",
       "\n",
       "[273 rows x 8 columns]"
      ]
     },
     "execution_count": 170,
     "metadata": {},
     "output_type": "execute_result"
    }
   ],
   "source": [
    "ha"
   ]
  },
  {
   "cell_type": "markdown",
   "metadata": {
    "id": "znGl7pbvVk-h"
   },
   "source": [
    "*The sex, cp, and restecg variables are in categorical form, so they will be excluded from scaling.*"
   ]
  },
  {
   "cell_type": "code",
   "execution_count": 171,
   "metadata": {
    "colab": {
     "base_uri": "https://localhost:8080/"
    },
    "id": "ByvZcjcF8Yky",
    "outputId": "ffac7723-586a-47f7-dce2-1b419418a5ee"
   },
   "outputs": [
    {
     "data": {
      "text/plain": [
       "1    146\n",
       "0    127\n",
       "Name: output, dtype: int64"
      ]
     },
     "execution_count": 171,
     "metadata": {},
     "output_type": "execute_result"
    }
   ],
   "source": [
    "# Checking the value counts of the 'output' variable\n",
    "ha['output'].value_counts()"
   ]
  },
  {
   "cell_type": "markdown",
   "metadata": {
    "id": "oF273DJx8glh"
   },
   "source": [
    "*It looks like the training and test splits will be balanced, as there isn't an unbalanced ratio of values, therefore no need to stratify.*"
   ]
  },
  {
   "cell_type": "code",
   "execution_count": 172,
   "metadata": {
    "colab": {
     "base_uri": "https://localhost:8080/"
    },
    "id": "Bo0-Xo1get9r",
    "outputId": "becb0406-8ff3-482c-def9-580ad0d9c97c"
   },
   "outputs": [
    {
     "data": {
      "text/plain": [
       "1    184\n",
       "0     89\n",
       "Name: sex, dtype: int64"
      ]
     },
     "execution_count": 172,
     "metadata": {},
     "output_type": "execute_result"
    }
   ],
   "source": [
    "# Checking the counts of the 'sex' variable\n",
    "ha['sex'].value_counts()"
   ]
  },
  {
   "cell_type": "markdown",
   "metadata": {
    "id": "jWgBSka0ilcD"
   },
   "source": [
    "*Male to female ratio is unbalanced, as males are known to be twice as likely to experience a heart attack when compared to females.*"
   ]
  },
  {
   "cell_type": "code",
   "execution_count": 173,
   "metadata": {
    "colab": {
     "base_uri": "https://localhost:8080/"
    },
    "id": "DSXUuZereefF",
    "outputId": "8f85db40-dda1-44c3-c7a0-2fbd8f6edc89"
   },
   "outputs": [
    {
     "data": {
      "text/plain": [
       "(0, 10]        0\n",
       "(10, 20]       0\n",
       "(20, 30]       1\n",
       "(30, 40]      17\n",
       "(40, 50]      66\n",
       "(50, 60]     117\n",
       "(60, 70]      67\n",
       "(70, 80]       5\n",
       "(80, 90]       0\n",
       "(90, 100]      0\n",
       "Name: age, dtype: int64"
      ]
     },
     "execution_count": 173,
     "metadata": {},
     "output_type": "execute_result"
    }
   ],
   "source": [
    "# Binning by age group and getting counts of each\n",
    "bins = [0, 10, 20, 30, 40, 50, 60, 70, 80, 90, 100]\n",
    "\n",
    "age_groups = pd.cut(ha['age'], bins)\n",
    "age_groups.value_counts().sort_index()"
   ]
  },
  {
   "cell_type": "markdown",
   "metadata": {
    "id": "oIaTZFKait-m"
   },
   "source": [
    "*The age range of 50-61 has nearly twice as many rows as the next age range of 70-81, and 40-51.*"
   ]
  },
  {
   "cell_type": "code",
   "execution_count": 174,
   "metadata": {
    "colab": {
     "base_uri": "https://localhost:8080/"
    },
    "id": "yRa-B2O-koER",
    "outputId": "ddf36b08-574e-480b-b400-3647e618c452"
   },
   "outputs": [
    {
     "data": {
      "text/plain": [
       "age        0\n",
       "sex        0\n",
       "cp         0\n",
       "trtbps     0\n",
       "chol       0\n",
       "restecg    0\n",
       "thalach    0\n",
       "output     0\n",
       "dtype: int64"
      ]
     },
     "execution_count": 174,
     "metadata": {},
     "output_type": "execute_result"
    }
   ],
   "source": [
    "# Checking for missing values in each column\n",
    "ha.isna().sum()"
   ]
  },
  {
   "cell_type": "markdown",
   "metadata": {
    "id": "DJlwm5BVmOt2"
   },
   "source": [
    "*There are no NA values, and it looks like the categorical variables sex, cp, and restecg will be dummified, with the other variables being scaled as well.*"
   ]
  },
  {
   "cell_type": "markdown",
   "metadata": {
    "id": "_sFquM7qmdP-"
   },
   "source": [
    "# **Part One: Fitting Models**\n",
    "\n",
    "This section asks you to create a final best model for each of the model types studied this week. For each, you should:\n",
    "\n",
    "Find the best model based on ROC AUC for predicting the target variable.\n",
    "\n",
    "Output a confusion matrix; that is, the counts of how many observations fell into each predicted class for each true class.\n",
    "\n",
    "Report the (cross-validated!) ROC AUC metric.\n",
    "\n",
    "Fit the final model.\n",
    "\n",
    "(Where applicable) Interpret the coefficients and/or estimates produced by the model fit.\n",
    "\n",
    "You should certainly try multiple model pipelines to find the best model. You do not need to include the output for every attempted model, but you should describe all of the models explored. You should include any hyperparameter tuning steps in your writeup as well."
   ]
  },
  {
   "cell_type": "code",
   "execution_count": 175,
   "metadata": {
    "id": "CUlEvW9mmcnl"
   },
   "outputs": [],
   "source": [
    "# Importing libraries\n",
    "import pandas as pd\n",
    "import numpy as np\n",
    "from sklearn.model_selection import train_test_split\n",
    "from sklearn.preprocessing import StandardScaler, OneHotEncoder\n",
    "from sklearn.compose import ColumnTransformer, make_column_selector"
   ]
  },
  {
   "cell_type": "code",
   "execution_count": 176,
   "metadata": {
    "id": "4jPqgTdamcku"
   },
   "outputs": [],
   "source": [
    "# Defining the response and predictor variables\n",
    "X = ha.drop('output', axis=1)\n",
    "y = ha['output']"
   ]
  },
  {
   "cell_type": "code",
   "execution_count": 177,
   "metadata": {
    "id": "r7rsNWVVmciG"
   },
   "outputs": [],
   "source": [
    "# Initializing the column transformer\n",
    "ct = ColumnTransformer(\n",
    "    [\n",
    "        (\"dummify\", OneHotEncoder(sparse_output=False, handle_unknown='ignore', drop='first'), make_column_selector(dtype_include=object)),\n",
    "        (\"standardize\", StandardScaler(), ['age', 'trtbps', 'chol', 'thalach'])\n",
    "    ],\n",
    "    remainder=\"passthrough\"\n",
    ")\n",
    "\n",
    "X = ct.fit_transform(X)\n",
    "X_train, X_test, y_train, y_test = train_test_split(X, y, test_size=0.25, random_state=42)"
   ]
  },
  {
   "cell_type": "markdown",
   "metadata": {
    "id": "lKqY9soImm0O"
   },
   "source": [
    "# *Q1: KNN*"
   ]
  },
  {
   "cell_type": "code",
   "execution_count": 178,
   "metadata": {
    "id": "vqHSU0TPmcfg"
   },
   "outputs": [],
   "source": [
    "from sklearn.neighbors import KNeighborsClassifier\n",
    "from sklearn.metrics import confusion_matrix, accuracy_score, classification_report, roc_auc_score\n",
    "from sklearn.model_selection import GridSearchCV"
   ]
  },
  {
   "cell_type": "code",
   "execution_count": 179,
   "metadata": {
    "colab": {
     "base_uri": "https://localhost:8080/"
    },
    "id": "j8F9DACJFZEr",
    "outputId": "7bf853a4-d47e-4c92-bc77-fc0331165ae8"
   },
   "outputs": [
    {
     "data": {
      "text/plain": [
       "16.522711641858304"
      ]
     },
     "execution_count": 179,
     "metadata": {},
     "output_type": "execute_result"
    }
   ],
   "source": [
    "np.sqrt(273)"
   ]
  },
  {
   "cell_type": "markdown",
   "metadata": {
    "id": "bkGPji4DlDwz"
   },
   "source": [
    "*The sqrt of 273 (16.5) was used for a starting point in obtaining an optimal hyperparameter set to test with. Each tuned model was tested to make sure that the AUC of the full model was not **100%**, which would suggest overfitting.*"
   ]
  },
  {
   "cell_type": "code",
   "execution_count": 180,
   "metadata": {
    "id": "1j585xGBmcaQ"
   },
   "outputs": [],
   "source": [
    "# Defining the hyperparameters for tuning\n",
    "param_grid1 = {\n",
    "    'n_neighbors': [1, 3, 5],\n",
    "    'weights': ['uniform', 'distance'],\n",
    "    'metric': ['euclidean', 'manhattan']\n",
    "}\n",
    "\n",
    "knn = KNeighborsClassifier()"
   ]
  },
  {
   "cell_type": "code",
   "execution_count": 181,
   "metadata": {
    "colab": {
     "base_uri": "https://localhost:8080/",
     "height": 117
    },
    "id": "Ifb89NUX8yfH",
    "outputId": "2b083626-99f4-4edc-dbd1-ef281b9cb864"
   },
   "outputs": [
    {
     "data": {
      "text/html": [
       "<style>#sk-container-id-8 {color: black;background-color: white;}#sk-container-id-8 pre{padding: 0;}#sk-container-id-8 div.sk-toggleable {background-color: white;}#sk-container-id-8 label.sk-toggleable__label {cursor: pointer;display: block;width: 100%;margin-bottom: 0;padding: 0.3em;box-sizing: border-box;text-align: center;}#sk-container-id-8 label.sk-toggleable__label-arrow:before {content: \"▸\";float: left;margin-right: 0.25em;color: #696969;}#sk-container-id-8 label.sk-toggleable__label-arrow:hover:before {color: black;}#sk-container-id-8 div.sk-estimator:hover label.sk-toggleable__label-arrow:before {color: black;}#sk-container-id-8 div.sk-toggleable__content {max-height: 0;max-width: 0;overflow: hidden;text-align: left;background-color: #f0f8ff;}#sk-container-id-8 div.sk-toggleable__content pre {margin: 0.2em;color: black;border-radius: 0.25em;background-color: #f0f8ff;}#sk-container-id-8 input.sk-toggleable__control:checked~div.sk-toggleable__content {max-height: 200px;max-width: 100%;overflow: auto;}#sk-container-id-8 input.sk-toggleable__control:checked~label.sk-toggleable__label-arrow:before {content: \"▾\";}#sk-container-id-8 div.sk-estimator input.sk-toggleable__control:checked~label.sk-toggleable__label {background-color: #d4ebff;}#sk-container-id-8 div.sk-label input.sk-toggleable__control:checked~label.sk-toggleable__label {background-color: #d4ebff;}#sk-container-id-8 input.sk-hidden--visually {border: 0;clip: rect(1px 1px 1px 1px);clip: rect(1px, 1px, 1px, 1px);height: 1px;margin: -1px;overflow: hidden;padding: 0;position: absolute;width: 1px;}#sk-container-id-8 div.sk-estimator {font-family: monospace;background-color: #f0f8ff;border: 1px dotted black;border-radius: 0.25em;box-sizing: border-box;margin-bottom: 0.5em;}#sk-container-id-8 div.sk-estimator:hover {background-color: #d4ebff;}#sk-container-id-8 div.sk-parallel-item::after {content: \"\";width: 100%;border-bottom: 1px solid gray;flex-grow: 1;}#sk-container-id-8 div.sk-label:hover label.sk-toggleable__label {background-color: #d4ebff;}#sk-container-id-8 div.sk-serial::before {content: \"\";position: absolute;border-left: 1px solid gray;box-sizing: border-box;top: 0;bottom: 0;left: 50%;z-index: 0;}#sk-container-id-8 div.sk-serial {display: flex;flex-direction: column;align-items: center;background-color: white;padding-right: 0.2em;padding-left: 0.2em;position: relative;}#sk-container-id-8 div.sk-item {position: relative;z-index: 1;}#sk-container-id-8 div.sk-parallel {display: flex;align-items: stretch;justify-content: center;background-color: white;position: relative;}#sk-container-id-8 div.sk-item::before, #sk-container-id-8 div.sk-parallel-item::before {content: \"\";position: absolute;border-left: 1px solid gray;box-sizing: border-box;top: 0;bottom: 0;left: 50%;z-index: -1;}#sk-container-id-8 div.sk-parallel-item {display: flex;flex-direction: column;z-index: 1;position: relative;background-color: white;}#sk-container-id-8 div.sk-parallel-item:first-child::after {align-self: flex-end;width: 50%;}#sk-container-id-8 div.sk-parallel-item:last-child::after {align-self: flex-start;width: 50%;}#sk-container-id-8 div.sk-parallel-item:only-child::after {width: 0;}#sk-container-id-8 div.sk-dashed-wrapped {border: 1px dashed gray;margin: 0 0.4em 0.5em 0.4em;box-sizing: border-box;padding-bottom: 0.4em;background-color: white;}#sk-container-id-8 div.sk-label label {font-family: monospace;font-weight: bold;display: inline-block;line-height: 1.2em;}#sk-container-id-8 div.sk-label-container {text-align: center;}#sk-container-id-8 div.sk-container {/* jupyter's `normalize.less` sets `[hidden] { display: none; }` but bootstrap.min.css set `[hidden] { display: none !important; }` so we also need the `!important` here to be able to override the default hidden behavior on the sphinx rendered scikit-learn.org. See: https://github.com/scikit-learn/scikit-learn/issues/21755 */display: inline-block !important;position: relative;}#sk-container-id-8 div.sk-text-repr-fallback {display: none;}</style><div id=\"sk-container-id-8\" class=\"sk-top-container\"><div class=\"sk-text-repr-fallback\"><pre>GridSearchCV(cv=5, estimator=KNeighborsClassifier(),\n",
       "             param_grid={&#x27;metric&#x27;: [&#x27;euclidean&#x27;, &#x27;manhattan&#x27;],\n",
       "                         &#x27;n_neighbors&#x27;: [1, 3, 5],\n",
       "                         &#x27;weights&#x27;: [&#x27;uniform&#x27;, &#x27;distance&#x27;]},\n",
       "             scoring=&#x27;roc_auc&#x27;)</pre><b>In a Jupyter environment, please rerun this cell to show the HTML representation or trust the notebook. <br />On GitHub, the HTML representation is unable to render, please try loading this page with nbviewer.org.</b></div><div class=\"sk-container\" hidden><div class=\"sk-item sk-dashed-wrapped\"><div class=\"sk-label-container\"><div class=\"sk-label sk-toggleable\"><input class=\"sk-toggleable__control sk-hidden--visually\" id=\"sk-estimator-id-22\" type=\"checkbox\" ><label for=\"sk-estimator-id-22\" class=\"sk-toggleable__label sk-toggleable__label-arrow\">GridSearchCV</label><div class=\"sk-toggleable__content\"><pre>GridSearchCV(cv=5, estimator=KNeighborsClassifier(),\n",
       "             param_grid={&#x27;metric&#x27;: [&#x27;euclidean&#x27;, &#x27;manhattan&#x27;],\n",
       "                         &#x27;n_neighbors&#x27;: [1, 3, 5],\n",
       "                         &#x27;weights&#x27;: [&#x27;uniform&#x27;, &#x27;distance&#x27;]},\n",
       "             scoring=&#x27;roc_auc&#x27;)</pre></div></div></div><div class=\"sk-parallel\"><div class=\"sk-parallel-item\"><div class=\"sk-item\"><div class=\"sk-label-container\"><div class=\"sk-label sk-toggleable\"><input class=\"sk-toggleable__control sk-hidden--visually\" id=\"sk-estimator-id-23\" type=\"checkbox\" ><label for=\"sk-estimator-id-23\" class=\"sk-toggleable__label sk-toggleable__label-arrow\">estimator: KNeighborsClassifier</label><div class=\"sk-toggleable__content\"><pre>KNeighborsClassifier()</pre></div></div></div><div class=\"sk-serial\"><div class=\"sk-item\"><div class=\"sk-estimator sk-toggleable\"><input class=\"sk-toggleable__control sk-hidden--visually\" id=\"sk-estimator-id-24\" type=\"checkbox\" ><label for=\"sk-estimator-id-24\" class=\"sk-toggleable__label sk-toggleable__label-arrow\">KNeighborsClassifier</label><div class=\"sk-toggleable__content\"><pre>KNeighborsClassifier()</pre></div></div></div></div></div></div></div></div></div></div>"
      ],
      "text/plain": [
       "GridSearchCV(cv=5, estimator=KNeighborsClassifier(),\n",
       "             param_grid={'metric': ['euclidean', 'manhattan'],\n",
       "                         'n_neighbors': [1, 3, 5],\n",
       "                         'weights': ['uniform', 'distance']},\n",
       "             scoring='roc_auc')"
      ]
     },
     "execution_count": 181,
     "metadata": {},
     "output_type": "execute_result"
    }
   ],
   "source": [
    "# Performing a GridSearchCV\n",
    "grid_search1 = GridSearchCV(estimator=knn, param_grid=param_grid1, cv=5, scoring='roc_auc')\n",
    "grid_search1.fit(X_train, y_train)"
   ]
  },
  {
   "cell_type": "code",
   "execution_count": 182,
   "metadata": {
    "colab": {
     "base_uri": "https://localhost:8080/"
    },
    "id": "D6zx_SkV8yc6",
    "outputId": "32b804a7-777b-49a7-9c6b-5c689ab49527"
   },
   "outputs": [
    {
     "name": "stdout",
     "output_type": "stream",
     "text": [
      "Test Accuracy: KNN k=5 [0.6666666666666666]\n"
     ]
    }
   ],
   "source": [
    "# Defining the best hyperparameters and model\n",
    "best_model1 = grid_search1.best_estimator_\n",
    "\n",
    "# Printing out the test accuracy\n",
    "accuracy1 = best_model1.score(X_test, y_test)\n",
    "print(f\"Test Accuracy: KNN k=5 [{accuracy1}]\")"
   ]
  },
  {
   "cell_type": "markdown",
   "metadata": {
    "id": "jYMfFIjx7Xs9"
   },
   "source": [
    "*    The test accuracy of **66.7%** represents the percentage of true positives and negatives that were predicted by the best K-Nearest Neighbors model."
   ]
  },
  {
   "cell_type": "code",
   "execution_count": 183,
   "metadata": {
    "colab": {
     "base_uri": "https://localhost:8080/"
    },
    "id": "7Lg1YQmd8yaz",
    "outputId": "837f7e50-6237-48c2-d017-ba9474623093"
   },
   "outputs": [
    {
     "name": "stdout",
     "output_type": "stream",
     "text": [
      "Best Hyperparameters: {'metric': 'manhattan', 'n_neighbors': 5, 'weights': 'uniform'}\n"
     ]
    }
   ],
   "source": [
    "# Printing out the best hyperparameters\n",
    "best_params1 = grid_search1.best_params_\n",
    "\n",
    "print(\"Best Hyperparameters:\", best_params1)"
   ]
  },
  {
   "cell_type": "markdown",
   "metadata": {
    "id": "vO-GNPAqigV6"
   },
   "source": [
    "*    After initially using a k-nearest neighbors value of 16.52 as a starting point, the parameters were adjusted until the sweet spot of 5 for nearest neighbors was chosen. Anything over 5 resulted in overfitting."
   ]
  },
  {
   "cell_type": "code",
   "execution_count": 184,
   "metadata": {
    "id": "eqVM0AN28yVx"
   },
   "outputs": [],
   "source": [
    "# Model KNN with K=5\n",
    "best_model1.fit(X_train, y_train)\n",
    "pred_1 = best_model1.predict(X_test)"
   ]
  },
  {
   "cell_type": "code",
   "execution_count": 185,
   "metadata": {
    "colab": {
     "base_uri": "https://localhost:8080/"
    },
    "id": "mGfWlbsjfAU9",
    "outputId": "d9e9190d-936f-4ff0-d715-11b2f0409b3d"
   },
   "outputs": [
    {
     "name": "stdout",
     "output_type": "stream",
     "text": [
      "Average Cross-Validated AUC: KNN k=5 [0.8205513784461154]\n"
     ]
    }
   ],
   "source": [
    "# Calculating the average AUC across all folds\n",
    "\n",
    "from sklearn.model_selection import cross_val_score\n",
    "\n",
    "cv_auc_scores1 = cross_val_score(best_model1, X_train, y_train, cv=5, scoring='roc_auc')\n",
    "\n",
    "avg_auc_score1 = cv_auc_scores1.mean()\n",
    "print(f\"Average Cross-Validated AUC: KNN k=5 [{avg_auc_score1}]\")"
   ]
  },
  {
   "cell_type": "markdown",
   "metadata": {
    "id": "SAwn7mk4zgIV"
   },
   "source": [
    "*    The average cross-validated AUC for the model tuned on the training set was approximately **82.1%**, which translates to having a significantly higher chance of predicting the risk of heart attack than by random chance."
   ]
  },
  {
   "cell_type": "markdown",
   "metadata": {
    "id": "x_BK3KRQdtEf"
   },
   "source": [
    "*Fitting on the Full Model with the best hyperparameters*"
   ]
  },
  {
   "cell_type": "code",
   "execution_count": 186,
   "metadata": {
    "id": "0lZEVQJcAx7a"
   },
   "outputs": [],
   "source": [
    "# Fitting the full model\n",
    "best_model1.fit(X, y)\n",
    "pred_best1 = best_model1.predict(X)"
   ]
  },
  {
   "cell_type": "code",
   "execution_count": 187,
   "metadata": {
    "colab": {
     "base_uri": "https://localhost:8080/"
    },
    "id": "C3JZbJVBAx5N",
    "outputId": "882be341-2a41-44c7-e2cf-23e2fdb7f054"
   },
   "outputs": [
    {
     "name": "stdout",
     "output_type": "stream",
     "text": [
      "Confusion Matrix: KNN k=5\n",
      "[[100  27]\n",
      " [ 25 121]]\n"
     ]
    }
   ],
   "source": [
    "# Confusion matrix Full Model\n",
    "conf_matrix_best1 = confusion_matrix(y, pred_best1)\n",
    "print(\"Confusion Matrix: KNN k=5\")\n",
    "print(conf_matrix_best1)"
   ]
  },
  {
   "cell_type": "markdown",
   "metadata": {
    "id": "fPYJHSzT0Asx"
   },
   "source": [
    "*    100 TN: There were 100 correct predictions that patients were not at risk of a heart attack.\n",
    "*    27 FP: There were 27 incorrect predictions that patients were at risk of a heart attack, when they were not.\n",
    "*    25 FN: There were 25 instances where the model failed to identify those who were at risk of a heart attack.\n",
    "*    121 TP: There were 121 instances where the model correctly predicted those who were at risk of a heart attack."
   ]
  },
  {
   "cell_type": "code",
   "execution_count": 188,
   "metadata": {
    "colab": {
     "base_uri": "https://localhost:8080/"
    },
    "id": "b8BK3vqsdS9I",
    "outputId": "6a2bf12f-6fcc-44a4-995b-8a5315931e19"
   },
   "outputs": [
    {
     "name": "stdout",
     "output_type": "stream",
     "text": [
      "AUC: KNN k=5 [0.8985007011109912]\n"
     ]
    }
   ],
   "source": [
    "# AUC Full Model\n",
    "prob_1 = best_model1.predict_proba(X)\n",
    "auc_score_1 = roc_auc_score(y, prob_1[:, 1])\n",
    "print(f\"AUC: KNN k=5 [{auc_score_1}]\")"
   ]
  },
  {
   "cell_type": "markdown",
   "metadata": {
    "id": "9VMC94neXpOZ"
   },
   "source": [
    "*    The KNN k=5 model has an AUC of **89.9%** which was higher than the predictions made on the test set."
   ]
  },
  {
   "cell_type": "markdown",
   "metadata": {
    "id": "CSPJw1sTmsBF"
   },
   "source": [
    "# *Q2: Logistic Regression*"
   ]
  },
  {
   "cell_type": "code",
   "execution_count": 189,
   "metadata": {
    "id": "RZWQRZ2b3Qbt"
   },
   "outputs": [],
   "source": [
    "from sklearn.linear_model import LogisticRegression"
   ]
  },
  {
   "cell_type": "code",
   "execution_count": 190,
   "metadata": {
    "id": "PA_VmZ_-mcX6"
   },
   "outputs": [],
   "source": [
    "# Defining the hyperparameters for tuning\n",
    "param_grid2 = {\n",
    "    'C': [0.001, 0.01, 0.1, 1, 10, 100],\n",
    "    'penalty': ['l1', 'l2']\n",
    "}\n",
    "\n",
    "log_reg = LogisticRegression(solver='liblinear')"
   ]
  },
  {
   "cell_type": "code",
   "execution_count": 191,
   "metadata": {
    "colab": {
     "base_uri": "https://localhost:8080/",
     "height": 117
    },
    "id": "17HbnxaQmcVW",
    "outputId": "7e7f0731-7771-42bb-e610-423f785e14f4"
   },
   "outputs": [
    {
     "data": {
      "text/html": [
       "<style>#sk-container-id-9 {color: black;background-color: white;}#sk-container-id-9 pre{padding: 0;}#sk-container-id-9 div.sk-toggleable {background-color: white;}#sk-container-id-9 label.sk-toggleable__label {cursor: pointer;display: block;width: 100%;margin-bottom: 0;padding: 0.3em;box-sizing: border-box;text-align: center;}#sk-container-id-9 label.sk-toggleable__label-arrow:before {content: \"▸\";float: left;margin-right: 0.25em;color: #696969;}#sk-container-id-9 label.sk-toggleable__label-arrow:hover:before {color: black;}#sk-container-id-9 div.sk-estimator:hover label.sk-toggleable__label-arrow:before {color: black;}#sk-container-id-9 div.sk-toggleable__content {max-height: 0;max-width: 0;overflow: hidden;text-align: left;background-color: #f0f8ff;}#sk-container-id-9 div.sk-toggleable__content pre {margin: 0.2em;color: black;border-radius: 0.25em;background-color: #f0f8ff;}#sk-container-id-9 input.sk-toggleable__control:checked~div.sk-toggleable__content {max-height: 200px;max-width: 100%;overflow: auto;}#sk-container-id-9 input.sk-toggleable__control:checked~label.sk-toggleable__label-arrow:before {content: \"▾\";}#sk-container-id-9 div.sk-estimator input.sk-toggleable__control:checked~label.sk-toggleable__label {background-color: #d4ebff;}#sk-container-id-9 div.sk-label input.sk-toggleable__control:checked~label.sk-toggleable__label {background-color: #d4ebff;}#sk-container-id-9 input.sk-hidden--visually {border: 0;clip: rect(1px 1px 1px 1px);clip: rect(1px, 1px, 1px, 1px);height: 1px;margin: -1px;overflow: hidden;padding: 0;position: absolute;width: 1px;}#sk-container-id-9 div.sk-estimator {font-family: monospace;background-color: #f0f8ff;border: 1px dotted black;border-radius: 0.25em;box-sizing: border-box;margin-bottom: 0.5em;}#sk-container-id-9 div.sk-estimator:hover {background-color: #d4ebff;}#sk-container-id-9 div.sk-parallel-item::after {content: \"\";width: 100%;border-bottom: 1px solid gray;flex-grow: 1;}#sk-container-id-9 div.sk-label:hover label.sk-toggleable__label {background-color: #d4ebff;}#sk-container-id-9 div.sk-serial::before {content: \"\";position: absolute;border-left: 1px solid gray;box-sizing: border-box;top: 0;bottom: 0;left: 50%;z-index: 0;}#sk-container-id-9 div.sk-serial {display: flex;flex-direction: column;align-items: center;background-color: white;padding-right: 0.2em;padding-left: 0.2em;position: relative;}#sk-container-id-9 div.sk-item {position: relative;z-index: 1;}#sk-container-id-9 div.sk-parallel {display: flex;align-items: stretch;justify-content: center;background-color: white;position: relative;}#sk-container-id-9 div.sk-item::before, #sk-container-id-9 div.sk-parallel-item::before {content: \"\";position: absolute;border-left: 1px solid gray;box-sizing: border-box;top: 0;bottom: 0;left: 50%;z-index: -1;}#sk-container-id-9 div.sk-parallel-item {display: flex;flex-direction: column;z-index: 1;position: relative;background-color: white;}#sk-container-id-9 div.sk-parallel-item:first-child::after {align-self: flex-end;width: 50%;}#sk-container-id-9 div.sk-parallel-item:last-child::after {align-self: flex-start;width: 50%;}#sk-container-id-9 div.sk-parallel-item:only-child::after {width: 0;}#sk-container-id-9 div.sk-dashed-wrapped {border: 1px dashed gray;margin: 0 0.4em 0.5em 0.4em;box-sizing: border-box;padding-bottom: 0.4em;background-color: white;}#sk-container-id-9 div.sk-label label {font-family: monospace;font-weight: bold;display: inline-block;line-height: 1.2em;}#sk-container-id-9 div.sk-label-container {text-align: center;}#sk-container-id-9 div.sk-container {/* jupyter's `normalize.less` sets `[hidden] { display: none; }` but bootstrap.min.css set `[hidden] { display: none !important; }` so we also need the `!important` here to be able to override the default hidden behavior on the sphinx rendered scikit-learn.org. See: https://github.com/scikit-learn/scikit-learn/issues/21755 */display: inline-block !important;position: relative;}#sk-container-id-9 div.sk-text-repr-fallback {display: none;}</style><div id=\"sk-container-id-9\" class=\"sk-top-container\"><div class=\"sk-text-repr-fallback\"><pre>GridSearchCV(cv=5, estimator=LogisticRegression(solver=&#x27;liblinear&#x27;),\n",
       "             param_grid={&#x27;C&#x27;: [0.001, 0.01, 0.1, 1, 10, 100],\n",
       "                         &#x27;penalty&#x27;: [&#x27;l1&#x27;, &#x27;l2&#x27;]},\n",
       "             scoring=&#x27;roc_auc&#x27;)</pre><b>In a Jupyter environment, please rerun this cell to show the HTML representation or trust the notebook. <br />On GitHub, the HTML representation is unable to render, please try loading this page with nbviewer.org.</b></div><div class=\"sk-container\" hidden><div class=\"sk-item sk-dashed-wrapped\"><div class=\"sk-label-container\"><div class=\"sk-label sk-toggleable\"><input class=\"sk-toggleable__control sk-hidden--visually\" id=\"sk-estimator-id-25\" type=\"checkbox\" ><label for=\"sk-estimator-id-25\" class=\"sk-toggleable__label sk-toggleable__label-arrow\">GridSearchCV</label><div class=\"sk-toggleable__content\"><pre>GridSearchCV(cv=5, estimator=LogisticRegression(solver=&#x27;liblinear&#x27;),\n",
       "             param_grid={&#x27;C&#x27;: [0.001, 0.01, 0.1, 1, 10, 100],\n",
       "                         &#x27;penalty&#x27;: [&#x27;l1&#x27;, &#x27;l2&#x27;]},\n",
       "             scoring=&#x27;roc_auc&#x27;)</pre></div></div></div><div class=\"sk-parallel\"><div class=\"sk-parallel-item\"><div class=\"sk-item\"><div class=\"sk-label-container\"><div class=\"sk-label sk-toggleable\"><input class=\"sk-toggleable__control sk-hidden--visually\" id=\"sk-estimator-id-26\" type=\"checkbox\" ><label for=\"sk-estimator-id-26\" class=\"sk-toggleable__label sk-toggleable__label-arrow\">estimator: LogisticRegression</label><div class=\"sk-toggleable__content\"><pre>LogisticRegression(solver=&#x27;liblinear&#x27;)</pre></div></div></div><div class=\"sk-serial\"><div class=\"sk-item\"><div class=\"sk-estimator sk-toggleable\"><input class=\"sk-toggleable__control sk-hidden--visually\" id=\"sk-estimator-id-27\" type=\"checkbox\" ><label for=\"sk-estimator-id-27\" class=\"sk-toggleable__label sk-toggleable__label-arrow\">LogisticRegression</label><div class=\"sk-toggleable__content\"><pre>LogisticRegression(solver=&#x27;liblinear&#x27;)</pre></div></div></div></div></div></div></div></div></div></div>"
      ],
      "text/plain": [
       "GridSearchCV(cv=5, estimator=LogisticRegression(solver='liblinear'),\n",
       "             param_grid={'C': [0.001, 0.01, 0.1, 1, 10, 100],\n",
       "                         'penalty': ['l1', 'l2']},\n",
       "             scoring='roc_auc')"
      ]
     },
     "execution_count": 191,
     "metadata": {},
     "output_type": "execute_result"
    }
   ],
   "source": [
    "# Performing a GridSearchCV\n",
    "grid_search2 = GridSearchCV(log_reg, param_grid2, cv=5, scoring='roc_auc')\n",
    "grid_search2.fit(X_train, y_train)"
   ]
  },
  {
   "cell_type": "code",
   "execution_count": 192,
   "metadata": {
    "colab": {
     "base_uri": "https://localhost:8080/"
    },
    "id": "yePs0o7mC-yR",
    "outputId": "1628ac43-fc04-4e36-d991-7577655469fa"
   },
   "outputs": [
    {
     "name": "stdout",
     "output_type": "stream",
     "text": [
      "Test Accuracy: LogReg C=100, penalty=L1 [0.6811594202898551]\n"
     ]
    }
   ],
   "source": [
    "# Defining the best hyperparameters and model\n",
    "best_model2 = grid_search2.best_estimator_\n",
    "\n",
    "# Printing out the test accuracy\n",
    "accuracy2 = best_model2.score(X_test, y_test)\n",
    "print(f\"Test Accuracy: LogReg C=100, penalty=L1 [{accuracy2}]\")"
   ]
  },
  {
   "cell_type": "markdown",
   "metadata": {
    "id": "0EM0r0Wy9V5b"
   },
   "source": [
    "*    The test accuracy of **68.1%** represents the percentage of true positives and negatives that were predicted by the logistic regression model."
   ]
  },
  {
   "cell_type": "code",
   "execution_count": 193,
   "metadata": {
    "colab": {
     "base_uri": "https://localhost:8080/"
    },
    "id": "GU5iX0mGmcS0",
    "outputId": "1eec1814-2d72-4137-8bbf-60a074c694a5"
   },
   "outputs": [
    {
     "name": "stdout",
     "output_type": "stream",
     "text": [
      "Best Hyperparameters: {'C': 100, 'penalty': 'l1'}\n"
     ]
    }
   ],
   "source": [
    "# Printing out the best hyperparameters\n",
    "best_params2 = grid_search2.best_params_\n",
    "print(\"Best Hyperparameters:\", best_params2)"
   ]
  },
  {
   "cell_type": "markdown",
   "metadata": {
    "id": "yy-3AiV3ZDqB"
   },
   "source": [
    "*    The best hyperparameters were a combination of both a regularization strength(C) of 100 and a L1 Lasso penalty."
   ]
  },
  {
   "cell_type": "code",
   "execution_count": 194,
   "metadata": {
    "id": "V0Pf17YXmcNT"
   },
   "outputs": [],
   "source": [
    "# Model Logistic Regression with C=100, penalty=L1\n",
    "best_model2.fit(X_train, y_train)\n",
    "pred_2 = best_model2.predict(X_test)"
   ]
  },
  {
   "cell_type": "code",
   "execution_count": 195,
   "metadata": {
    "colab": {
     "base_uri": "https://localhost:8080/"
    },
    "id": "9fmZXXGJCkip",
    "outputId": "741d26f1-0689-4d45-a04e-f1d1913f8474"
   },
   "outputs": [
    {
     "name": "stdout",
     "output_type": "stream",
     "text": [
      "Average Cross-Validated LogReg C=100, penalty=L1 [0.8798587377534746]\n"
     ]
    }
   ],
   "source": [
    "# Calculating the average AUC across all folds\n",
    "cv_auc_scores2 = cross_val_score(best_model2, X_train, y_train, cv=5, scoring='roc_auc')\n",
    "\n",
    "avg_auc_score2 = cv_auc_scores2.mean()\n",
    "print(f\"Average Cross-Validated LogReg C=100, penalty=L1 [{avg_auc_score2}]\")"
   ]
  },
  {
   "cell_type": "markdown",
   "metadata": {
    "id": "9MBj5Cs--gPh"
   },
   "source": [
    "*    The average cross-validated AUC of the logistic regression model was **88%**, and this is significantly higher than predicting from just random chance."
   ]
  },
  {
   "cell_type": "markdown",
   "metadata": {
    "id": "RApWNI9CDNLP"
   },
   "source": [
    "*Fitting on the Full Model with the best hyperparameters*"
   ]
  },
  {
   "cell_type": "code",
   "execution_count": 196,
   "metadata": {
    "id": "hkUssGr4CkgU"
   },
   "outputs": [],
   "source": [
    "# Fitting the full model\n",
    "best_model2.fit(X, y)\n",
    "pred_best2 = best_model2.predict(X)"
   ]
  },
  {
   "cell_type": "code",
   "execution_count": 197,
   "metadata": {
    "colab": {
     "base_uri": "https://localhost:8080/"
    },
    "id": "MITG-2tUCkeE",
    "outputId": "af77fb9f-ef6f-43c0-a7c3-03569208785c"
   },
   "outputs": [
    {
     "name": "stdout",
     "output_type": "stream",
     "text": [
      "Confusion Matrix: LogReg C=100, penalty=L1\n",
      "[[ 96  31]\n",
      " [ 23 123]]\n"
     ]
    }
   ],
   "source": [
    "# Confusion matrix Full Model\n",
    "conf_matrix_2 = confusion_matrix(y, pred_best2)\n",
    "print(\"Confusion Matrix: LogReg C=100, penalty=L1\")\n",
    "print(conf_matrix_2)"
   ]
  },
  {
   "cell_type": "markdown",
   "metadata": {
    "id": "Ol3_hc2U_KFs"
   },
   "source": [
    "*    96 TN: There were 96 correct predictions that patients were not at risk of a heart attack.\n",
    "*    31 FP: There were 31 incorrect predictions that patients were at risk of a heart attack, when they were not.\n",
    "*    23 FN: There were 23 instances where the model failed to identify those who were at risk of a heart attack.\n",
    "*    123 TP: There were 123 instances where the model correctly predicted those who were at risk of a heart attack."
   ]
  },
  {
   "cell_type": "code",
   "execution_count": 198,
   "metadata": {
    "colab": {
     "base_uri": "https://localhost:8080/"
    },
    "id": "fEmithbECkb5",
    "outputId": "0d86c12b-2f07-4604-a4de-1018bb6d5adb"
   },
   "outputs": [
    {
     "name": "stdout",
     "output_type": "stream",
     "text": [
      "AUC: LogReg C=100, penalty=L1 [0.8677596807248409]\n"
     ]
    }
   ],
   "source": [
    "# AUC Full Model\n",
    "prob_2 = best_model2.predict_proba(X)\n",
    "auc_score_2 = roc_auc_score(y, prob_2[:, 1])\n",
    "print(f\"AUC: LogReg C=100, penalty=L1 [{auc_score_2}]\")"
   ]
  },
  {
   "cell_type": "markdown",
   "metadata": {
    "id": "bVp50QWB_ygN"
   },
   "source": [
    "*    The AUC for the full model was **86.8%**, which was slightly lower than the AUC for the predictions made on the test set."
   ]
  },
  {
   "cell_type": "markdown",
   "metadata": {
    "id": "hqBuXfRCeAov"
   },
   "source": [
    "*Extracting the coefficients and interpreting them*"
   ]
  },
  {
   "cell_type": "code",
   "execution_count": 199,
   "metadata": {
    "colab": {
     "base_uri": "https://localhost:8080/"
    },
    "id": "plb7tGlvCkZF",
    "outputId": "4e761661-dfac-44e8-cd7f-20caff57f81b"
   },
   "outputs": [
    {
     "data": {
      "text/plain": [
       "{'age': -0.2431957779373009,\n",
       " 'sex': -0.4047564809159422,\n",
       " 'cp': -0.28391637813252807,\n",
       " 'trtbps': 0.9216769961536558,\n",
       " 'chol': -2.13957204058272,\n",
       " 'restecg': 0.865744156218217,\n",
       " 'thalach': 0.3222588096789865}"
      ]
     },
     "execution_count": 199,
     "metadata": {},
     "output_type": "execute_result"
    }
   ],
   "source": [
    "# Defining the coefficients and feature names\n",
    "feature_names = ha.drop('output', axis=1).columns\n",
    "\n",
    "coefficients = best_model2.coef_[0]\n",
    "\n",
    "# Mapping feature names to coefficients\n",
    "coef_dict = dict(zip(feature_names, coefficients))\n",
    "\n",
    "coef_dict"
   ]
  },
  {
   "cell_type": "markdown",
   "metadata": {
    "id": "7t1P8204eGl8"
   },
   "source": [
    "*    Some of the coefficients seem to be counter intuitive. However, these coefficients were derived in context of the dataset provided, and the fitting of the model as well as the relationships with other variables.\n",
    "*    The combination of stronger regularization, C=100, and L1 Lasso penalty produced coefficients that were relatively small, which in turn resulted in a simpler and less complex model.\n",
    "*    The age coefficient (age) was -0.24, which suggests that as age increases, the log of the outcome of being at risk of a heart attack decreases, in this model.\n",
    "*    The sex_male variable (sex) was -0.40, which suggests that being male is associated with a decrease in the log of the outcome of being at risk of a heart attack.\n",
    "*    The chest pain variable (cp) had a value of -0.28, which translates to higher values of chest pain are associated with a decrease in the log of the outcome of being at risk of a heart attack.\n",
    "*    Resting blood pressure (trtbps) had a coefficient of 0.92 and was the 2nd most significant coefficient. This suggests that higher resting blood pressure is associated with a lower log outcome of heart attack risk.\n",
    "*    The cholesterol coefficient (chol) was -2.14 and was the most significant variable. This suggests that higher cholesterol levels are associated with a lower log outcome of heart attack risk.\n",
    "*    The resting electrocardiographic results coefficient (restecg) was 0.87 and was the 3rd most significant. This indicates that higher values are associated with an increase in the log outcome of being at risk of a heart attack.\n",
    "*    The maximum heart rate achieved coefficient (thalach) was 0.32, which indicates that higher values are associated with an increase in the log outcome of being at risk of a heart attack."
   ]
  },
  {
   "cell_type": "markdown",
   "metadata": {
    "id": "ZOObm0XTmwwv"
   },
   "source": [
    "# *Q3: Decision Tree*"
   ]
  },
  {
   "cell_type": "code",
   "execution_count": 200,
   "metadata": {
    "id": "a8rprsgn34Oa"
   },
   "outputs": [],
   "source": [
    "from sklearn.tree import DecisionTreeClassifier"
   ]
  },
  {
   "cell_type": "code",
   "execution_count": 201,
   "metadata": {
    "id": "nlh0joNlmcKz"
   },
   "outputs": [],
   "source": [
    "# Defining hyperparameters for tuning\n",
    "param_grid3 = {\n",
    "    'max_depth': [3, 5, 10, None],\n",
    "    'min_samples_split': [2, 5, 10],\n",
    "    'min_samples_leaf': [1, 2, 4],\n",
    "    'max_features': ['sqrt', 'log2', None],\n",
    "    'criterion': ['gini', 'entropy']\n",
    "}\n",
    "\n",
    "dt_class = DecisionTreeClassifier(random_state=42)"
   ]
  },
  {
   "cell_type": "code",
   "execution_count": 202,
   "metadata": {
    "colab": {
     "base_uri": "https://localhost:8080/",
     "height": 134
    },
    "id": "nGXtnlfVmcIL",
    "outputId": "cc955f8f-ba28-4b9d-97df-bdb315ce2197"
   },
   "outputs": [
    {
     "name": "stdout",
     "output_type": "stream",
     "text": [
      "Fitting 5 folds for each of 216 candidates, totalling 1080 fits\n"
     ]
    },
    {
     "data": {
      "text/html": [
       "<style>#sk-container-id-10 {color: black;background-color: white;}#sk-container-id-10 pre{padding: 0;}#sk-container-id-10 div.sk-toggleable {background-color: white;}#sk-container-id-10 label.sk-toggleable__label {cursor: pointer;display: block;width: 100%;margin-bottom: 0;padding: 0.3em;box-sizing: border-box;text-align: center;}#sk-container-id-10 label.sk-toggleable__label-arrow:before {content: \"▸\";float: left;margin-right: 0.25em;color: #696969;}#sk-container-id-10 label.sk-toggleable__label-arrow:hover:before {color: black;}#sk-container-id-10 div.sk-estimator:hover label.sk-toggleable__label-arrow:before {color: black;}#sk-container-id-10 div.sk-toggleable__content {max-height: 0;max-width: 0;overflow: hidden;text-align: left;background-color: #f0f8ff;}#sk-container-id-10 div.sk-toggleable__content pre {margin: 0.2em;color: black;border-radius: 0.25em;background-color: #f0f8ff;}#sk-container-id-10 input.sk-toggleable__control:checked~div.sk-toggleable__content {max-height: 200px;max-width: 100%;overflow: auto;}#sk-container-id-10 input.sk-toggleable__control:checked~label.sk-toggleable__label-arrow:before {content: \"▾\";}#sk-container-id-10 div.sk-estimator input.sk-toggleable__control:checked~label.sk-toggleable__label {background-color: #d4ebff;}#sk-container-id-10 div.sk-label input.sk-toggleable__control:checked~label.sk-toggleable__label {background-color: #d4ebff;}#sk-container-id-10 input.sk-hidden--visually {border: 0;clip: rect(1px 1px 1px 1px);clip: rect(1px, 1px, 1px, 1px);height: 1px;margin: -1px;overflow: hidden;padding: 0;position: absolute;width: 1px;}#sk-container-id-10 div.sk-estimator {font-family: monospace;background-color: #f0f8ff;border: 1px dotted black;border-radius: 0.25em;box-sizing: border-box;margin-bottom: 0.5em;}#sk-container-id-10 div.sk-estimator:hover {background-color: #d4ebff;}#sk-container-id-10 div.sk-parallel-item::after {content: \"\";width: 100%;border-bottom: 1px solid gray;flex-grow: 1;}#sk-container-id-10 div.sk-label:hover label.sk-toggleable__label {background-color: #d4ebff;}#sk-container-id-10 div.sk-serial::before {content: \"\";position: absolute;border-left: 1px solid gray;box-sizing: border-box;top: 0;bottom: 0;left: 50%;z-index: 0;}#sk-container-id-10 div.sk-serial {display: flex;flex-direction: column;align-items: center;background-color: white;padding-right: 0.2em;padding-left: 0.2em;position: relative;}#sk-container-id-10 div.sk-item {position: relative;z-index: 1;}#sk-container-id-10 div.sk-parallel {display: flex;align-items: stretch;justify-content: center;background-color: white;position: relative;}#sk-container-id-10 div.sk-item::before, #sk-container-id-10 div.sk-parallel-item::before {content: \"\";position: absolute;border-left: 1px solid gray;box-sizing: border-box;top: 0;bottom: 0;left: 50%;z-index: -1;}#sk-container-id-10 div.sk-parallel-item {display: flex;flex-direction: column;z-index: 1;position: relative;background-color: white;}#sk-container-id-10 div.sk-parallel-item:first-child::after {align-self: flex-end;width: 50%;}#sk-container-id-10 div.sk-parallel-item:last-child::after {align-self: flex-start;width: 50%;}#sk-container-id-10 div.sk-parallel-item:only-child::after {width: 0;}#sk-container-id-10 div.sk-dashed-wrapped {border: 1px dashed gray;margin: 0 0.4em 0.5em 0.4em;box-sizing: border-box;padding-bottom: 0.4em;background-color: white;}#sk-container-id-10 div.sk-label label {font-family: monospace;font-weight: bold;display: inline-block;line-height: 1.2em;}#sk-container-id-10 div.sk-label-container {text-align: center;}#sk-container-id-10 div.sk-container {/* jupyter's `normalize.less` sets `[hidden] { display: none; }` but bootstrap.min.css set `[hidden] { display: none !important; }` so we also need the `!important` here to be able to override the default hidden behavior on the sphinx rendered scikit-learn.org. See: https://github.com/scikit-learn/scikit-learn/issues/21755 */display: inline-block !important;position: relative;}#sk-container-id-10 div.sk-text-repr-fallback {display: none;}</style><div id=\"sk-container-id-10\" class=\"sk-top-container\"><div class=\"sk-text-repr-fallback\"><pre>GridSearchCV(cv=5, estimator=DecisionTreeClassifier(random_state=42), n_jobs=-1,\n",
       "             param_grid={&#x27;criterion&#x27;: [&#x27;gini&#x27;, &#x27;entropy&#x27;],\n",
       "                         &#x27;max_depth&#x27;: [3, 5, 10, None],\n",
       "                         &#x27;max_features&#x27;: [&#x27;sqrt&#x27;, &#x27;log2&#x27;, None],\n",
       "                         &#x27;min_samples_leaf&#x27;: [1, 2, 4],\n",
       "                         &#x27;min_samples_split&#x27;: [2, 5, 10]},\n",
       "             verbose=1)</pre><b>In a Jupyter environment, please rerun this cell to show the HTML representation or trust the notebook. <br />On GitHub, the HTML representation is unable to render, please try loading this page with nbviewer.org.</b></div><div class=\"sk-container\" hidden><div class=\"sk-item sk-dashed-wrapped\"><div class=\"sk-label-container\"><div class=\"sk-label sk-toggleable\"><input class=\"sk-toggleable__control sk-hidden--visually\" id=\"sk-estimator-id-28\" type=\"checkbox\" ><label for=\"sk-estimator-id-28\" class=\"sk-toggleable__label sk-toggleable__label-arrow\">GridSearchCV</label><div class=\"sk-toggleable__content\"><pre>GridSearchCV(cv=5, estimator=DecisionTreeClassifier(random_state=42), n_jobs=-1,\n",
       "             param_grid={&#x27;criterion&#x27;: [&#x27;gini&#x27;, &#x27;entropy&#x27;],\n",
       "                         &#x27;max_depth&#x27;: [3, 5, 10, None],\n",
       "                         &#x27;max_features&#x27;: [&#x27;sqrt&#x27;, &#x27;log2&#x27;, None],\n",
       "                         &#x27;min_samples_leaf&#x27;: [1, 2, 4],\n",
       "                         &#x27;min_samples_split&#x27;: [2, 5, 10]},\n",
       "             verbose=1)</pre></div></div></div><div class=\"sk-parallel\"><div class=\"sk-parallel-item\"><div class=\"sk-item\"><div class=\"sk-label-container\"><div class=\"sk-label sk-toggleable\"><input class=\"sk-toggleable__control sk-hidden--visually\" id=\"sk-estimator-id-29\" type=\"checkbox\" ><label for=\"sk-estimator-id-29\" class=\"sk-toggleable__label sk-toggleable__label-arrow\">estimator: DecisionTreeClassifier</label><div class=\"sk-toggleable__content\"><pre>DecisionTreeClassifier(random_state=42)</pre></div></div></div><div class=\"sk-serial\"><div class=\"sk-item\"><div class=\"sk-estimator sk-toggleable\"><input class=\"sk-toggleable__control sk-hidden--visually\" id=\"sk-estimator-id-30\" type=\"checkbox\" ><label for=\"sk-estimator-id-30\" class=\"sk-toggleable__label sk-toggleable__label-arrow\">DecisionTreeClassifier</label><div class=\"sk-toggleable__content\"><pre>DecisionTreeClassifier(random_state=42)</pre></div></div></div></div></div></div></div></div></div></div>"
      ],
      "text/plain": [
       "GridSearchCV(cv=5, estimator=DecisionTreeClassifier(random_state=42), n_jobs=-1,\n",
       "             param_grid={'criterion': ['gini', 'entropy'],\n",
       "                         'max_depth': [3, 5, 10, None],\n",
       "                         'max_features': ['sqrt', 'log2', None],\n",
       "                         'min_samples_leaf': [1, 2, 4],\n",
       "                         'min_samples_split': [2, 5, 10]},\n",
       "             verbose=1)"
      ]
     },
     "execution_count": 202,
     "metadata": {},
     "output_type": "execute_result"
    }
   ],
   "source": [
    "# Performing a GridSearchCV\n",
    "grid_search3 = GridSearchCV(dt_class, param_grid3, cv=5, n_jobs=-1, verbose=1)\n",
    "grid_search3.fit(X_train, y_train)"
   ]
  },
  {
   "cell_type": "code",
   "execution_count": 203,
   "metadata": {
    "colab": {
     "base_uri": "https://localhost:8080/"
    },
    "id": "idfY_ZJ7mcFb",
    "outputId": "1f6ed7d7-3aca-4384-9340-8af86741e8e5"
   },
   "outputs": [
    {
     "name": "stdout",
     "output_type": "stream",
     "text": [
      "Test Accuracy: Decision Tree [0.6666666666666666]\n"
     ]
    }
   ],
   "source": [
    "# Defining the best hyperparameters and model\n",
    "best_model3 = grid_search3.best_estimator_\n",
    "\n",
    "# Printing out the test accuracy\n",
    "accuracy3 = best_model3.score(X_test, y_test)\n",
    "print(f\"Test Accuracy: Decision Tree [{accuracy3}]\")"
   ]
  },
  {
   "cell_type": "markdown",
   "metadata": {
    "id": "oGnos-809ir5"
   },
   "source": [
    "*    The test accuracy of **66.7%** represents the percentage of true positives and negatives that were predicted by the decision tree model."
   ]
  },
  {
   "cell_type": "code",
   "execution_count": 204,
   "metadata": {
    "colab": {
     "base_uri": "https://localhost:8080/"
    },
    "id": "qTQKY23lmcCt",
    "outputId": "d2a4226b-ed92-4391-cc3d-a90a5158947d"
   },
   "outputs": [
    {
     "name": "stdout",
     "output_type": "stream",
     "text": [
      "Best Hyperparameters: Decision Tree {'criterion': 'entropy', 'max_depth': 5, 'max_features': 'sqrt', 'min_samples_leaf': 1, 'min_samples_split': 5}\n"
     ]
    }
   ],
   "source": [
    "# Printing out the best hyperparameters\n",
    "best_params3 = grid_search3.best_params_\n",
    "print(\"Best Hyperparameters: Decision Tree\", best_params3)"
   ]
  },
  {
   "cell_type": "markdown",
   "metadata": {
    "id": "629svFDL5FUn"
   },
   "source": [
    "*    The method chosen to measure the quality of the split was 'Entropy' and this will create tree splits that minimize impurity.\n",
    "*    A max depth of 5 was chosen and this will prevent overfitting by reducing the complexity of the model.\n",
    "*    'Sqrt' was chosen as the parameter for max featueres, and this will asssist in making the model more robust while also preventing overfitting.\n",
    "*    The minimum samples in leaf paramater was set at 1, and this can help to smooth out the model.\n",
    "*    A minimum samples split of 5 samples per node was chosen to assist in overfitting as well."
   ]
  },
  {
   "cell_type": "code",
   "execution_count": 205,
   "metadata": {
    "id": "bYid78CwoGgD"
   },
   "outputs": [],
   "source": [
    "# Model Decision Tree Classifier with best hyperparameters\n",
    "best_model3.fit(X_train, y_train)\n",
    "pred_3 = best_model3.predict(X_test)"
   ]
  },
  {
   "cell_type": "code",
   "execution_count": 206,
   "metadata": {
    "colab": {
     "base_uri": "https://localhost:8080/"
    },
    "id": "VR6UjhUu9_ck",
    "outputId": "d26aa756-441f-449f-82ad-5857618e26cb"
   },
   "outputs": [
    {
     "name": "stdout",
     "output_type": "stream",
     "text": [
      "Average Cross-Validated Decision Tree [0.8286056049213943]\n"
     ]
    }
   ],
   "source": [
    "# Calculating the average AUC across all folds\n",
    "cv_auc_scores3 = cross_val_score(best_model3, X_train, y_train, cv=5, scoring='roc_auc')\n",
    "\n",
    "avg_auc_score3 = cv_auc_scores3.mean()\n",
    "print(f\"Average Cross-Validated Decision Tree [{avg_auc_score3}]\")"
   ]
  },
  {
   "cell_type": "markdown",
   "metadata": {
    "id": "bTI9KRli-Jh0"
   },
   "source": [
    "*    The average cross-validated AUC of the decision tree model was **82.9%**, and this is higher than predicting from just random chance."
   ]
  },
  {
   "cell_type": "markdown",
   "metadata": {
    "id": "V4ndtZaz-5HU"
   },
   "source": [
    "*Fitting on the Full Model with the best hyperparameters*"
   ]
  },
  {
   "cell_type": "code",
   "execution_count": 207,
   "metadata": {
    "id": "62kIVHmy9_aQ"
   },
   "outputs": [],
   "source": [
    "# Fitting the full model\n",
    "best_model3.fit(X, y)\n",
    "pred_best3 = best_model3.predict(X)"
   ]
  },
  {
   "cell_type": "code",
   "execution_count": 208,
   "metadata": {
    "colab": {
     "base_uri": "https://localhost:8080/"
    },
    "id": "CXAoiPfe9_YC",
    "outputId": "98859549-99d1-4a01-a5e1-ac1bff8ea82d"
   },
   "outputs": [
    {
     "name": "stdout",
     "output_type": "stream",
     "text": [
      "Confusion Matrix: Decision Tree\n",
      "[[113  14]\n",
      " [ 34 112]]\n"
     ]
    }
   ],
   "source": [
    "# Confusion matrix Full Model\n",
    "conf_matrix_3 = confusion_matrix(y, pred_best3)\n",
    "print(\"Confusion Matrix: Decision Tree\")\n",
    "print(conf_matrix_3)"
   ]
  },
  {
   "cell_type": "markdown",
   "metadata": {
    "id": "5MxxV1MTAAzK"
   },
   "source": [
    "*    113 TN: There were 113 correct predictions that patients were not at risk of a heart attack.\n",
    "*    14 FP: There were 14 incorrect predictions that patients were at risk of a heart attack, when they were not.\n",
    "*    34 FN: There were 34 instances where the model failed to identify those who were at risk of a heart attack.\n",
    "*    112 TP: There were 112 instances where the model correctly predicted those who were at risk of a heart attack."
   ]
  },
  {
   "cell_type": "code",
   "execution_count": 209,
   "metadata": {
    "colab": {
     "base_uri": "https://localhost:8080/"
    },
    "id": "EZSWpGMp9_V1",
    "outputId": "c7bffc72-deea-4f30-fa47-000d5e5d18b3"
   },
   "outputs": [
    {
     "name": "stdout",
     "output_type": "stream",
     "text": [
      "AUC: Decision Tree [0.9056466400604034]\n"
     ]
    }
   ],
   "source": [
    "# AUC Full Model\n",
    "prob_3 = best_model3.predict_proba(X)\n",
    "auc_score_3 = roc_auc_score(y, prob_3[:, 1])\n",
    "print(f\"AUC: Decision Tree [{auc_score_3}]\")"
   ]
  },
  {
   "cell_type": "markdown",
   "metadata": {
    "id": "Q2m8MoWn__Lk"
   },
   "source": [
    "*    The AUC for the full model was **90.6%**, which was higher than the average AUC from the predictions made on the test set."
   ]
  },
  {
   "cell_type": "code",
   "execution_count": 210,
   "metadata": {
    "colab": {
     "base_uri": "https://localhost:8080/",
     "height": 488
    },
    "id": "Zb4a22TJ9_TY",
    "outputId": "9db02f56-cf05-46b2-de62-73fa5aeaa35f"
   },
   "outputs": [
    {
     "data": {
      "image/png": "[encoded data removed]",
      "text/plain": [
       "<Figure size 3000x1000 with 1 Axes>"
      ]
     },
     "metadata": {},
     "output_type": "display_data"
    }
   ],
   "source": [
    "import matplotlib.pyplot as plt\n",
    "from sklearn.tree import plot_tree\n",
    "\n",
    "# Plotting the decision tree\n",
    "plt.figure(figsize=(30,10))\n",
    "plot_tree(best_model3, filled=True, feature_names=feature_names, class_names=True)\n",
    "plt.show()"
   ]
  },
  {
   "cell_type": "markdown",
   "metadata": {
    "id": "TFT283yHBLWj"
   },
   "source": [
    "*    The root node splits on the variable 'restecg' for chest pain, with values less than or equal to 0.5 sent to the 'sex' node, and values greater going to the 'cp' node. There are 273 samples at this root node, with 127 samples belonging to one class, and 146 samples belonging to the dominant class, y[1]. The gini impurity of 0.997 is extremely high and indicates evenly distributed classes. The subsequent splits should reduce the range of entropy.\n",
    "*    The final leaf nodes indicate the classification that was made by the decision tree based on the features, along with the number of samples, and the value of each class. Some final leaf nodes ended with the lowest entropy value of 0.00, and these were completely pure nodes, as they had samples that only belonged to one class. The next lowest entropy value was 0.454, and this leaf had 21 samples, and followed the path of restecg <= sex <= thalach <= cp <= trtbps. The final leaf node with the most samples had an entropy value of 0.65, and contained 36 samples. This followed the path of restecg <= sex <= thalach <= cp <= chol.\n",
    "*    The dataset was small, and the depth of the decision tree was deep enough to possibly introduce some overfitting, even with the tuned hyperparameters."
   ]
  },
  {
   "cell_type": "markdown",
   "metadata": {
    "id": "IVO4MVeZm4bL"
   },
   "source": [
    "# **Part Two: Metrics**\n",
    "\n",
    "Consider the following metrics:\n",
    "\n",
    "**True Positive Rate** or **Recall** or **Sensitivity** = Of the observations that are truly Class A, how many were predicted to be Class A?\n",
    "\n",
    "**Precision** or **Positive Predictive Value** = Of all the observations classified as Class A, how many of them were truly from Class A?\n",
    "\n",
    "**True Negative Rate** or **Specificity** or **Negative Predictive Value** = Of all the observations classified as NOT Class A, how many were truly NOT Class A?\n",
    "\n",
    "Compute each of these metrics (cross-validated) for your three models (KNN, Logistic Regression, and Decision Tree) in Part One."
   ]
  },
  {
   "cell_type": "code",
   "execution_count": 211,
   "metadata": {
    "id": "SZiJlIBBnAr_"
   },
   "outputs": [],
   "source": [
    "from sklearn.model_selection import cross_val_predict\n",
    "from sklearn.metrics import accuracy_score, confusion_matrix, f1_score, precision_score, recall_score, classification_report"
   ]
  },
  {
   "cell_type": "code",
   "execution_count": 212,
   "metadata": {
    "id": "E4AkFFqpvJH1"
   },
   "outputs": [],
   "source": [
    "# Getting cross-validated predictions on the full model for KNN, Logistic Regression, and Decision Tree\n",
    "y_pred_knn = cross_val_predict(best_model1, X, y, cv=5)\n",
    "y_pred_logreg = cross_val_predict(best_model2, X, y, cv=5)\n",
    "y_pred_dt = cross_val_predict(best_model3, X, y, cv=5)"
   ]
  },
  {
   "cell_type": "code",
   "execution_count": 213,
   "metadata": {
    "id": "Tv0xV918nApl"
   },
   "outputs": [],
   "source": [
    "# KNN CV Metrics\n",
    "conf_matrix_knn = confusion_matrix(y, y_pred_knn)\n",
    "tn, fp, fn, tp = conf_matrix_knn.ravel()\n",
    "recall_knn = recall_score(y, y_pred_knn)\n",
    "precision_knn = precision_score(y, y_pred_knn)\n",
    "specificity_knn = tn / (tn + fp)\n",
    "accuracy_knn = accuracy_score(y, y_pred_knn)\n",
    "f1_knn = f1_score(y, y_pred_knn)\n",
    "auc_knn = roc_auc_score(y, y_pred_knn)\n",
    "\n",
    "# Logistic CV Regression Metrics\n",
    "conf_matrix_logreg = confusion_matrix(y, y_pred_logreg)\n",
    "tn, fp, fn, tp = conf_matrix_logreg.ravel()\n",
    "recall_logreg = recall_score(y, y_pred_logreg)\n",
    "precision_logreg = precision_score(y, y_pred_logreg)\n",
    "specificity_logreg = tn / (tn + fp)\n",
    "accuracy_logreg = accuracy_score(y, y_pred_logreg)\n",
    "f1_logreg = f1_score(y, y_pred_logreg)\n",
    "auc_logreg = roc_auc_score(y, y_pred_logreg)\n",
    "\n",
    "# Decision CV Tree Metrics\n",
    "conf_matrix_dt = confusion_matrix(y, y_pred_dt)\n",
    "tn, fp, fn, tp = conf_matrix_dt.ravel()\n",
    "recall_dt = recall_score(y, y_pred_dt)\n",
    "precision_dt = precision_score(y, y_pred_dt)\n",
    "specificity_dt = tn / (tn + fp)\n",
    "accuracy_dt = accuracy_score(y, y_pred_dt)\n",
    "f1_dt = f1_score(y, y_pred_dt)\n",
    "auc_dt = roc_auc_score(y, y_pred_dt)"
   ]
  },
  {
   "cell_type": "code",
   "execution_count": 214,
   "metadata": {
    "colab": {
     "base_uri": "https://localhost:8080/"
    },
    "id": "jZRUav_DOri6",
    "outputId": "1aa1e903-04ad-4a11-d7cc-a4912381ddc5"
   },
   "outputs": [
    {
     "name": "stdout",
     "output_type": "stream",
     "text": [
      "KNN Metrics:\n",
      "Confusion Matrix:\n",
      "[[ 94  33]\n",
      " [ 38 108]]\n",
      "Recall: 0.7397260273972602\n",
      "Precision: 0.7659574468085106\n",
      "Specificity: 0.7401574803149606\n",
      "Accuracy: 0.73992673992674\n",
      "F1: 0.7526132404181183\n",
      "AUC: 0.7399417538561104\n",
      "\n",
      "Logistic Regression Metrics:\n",
      "Confusion Matrix:\n",
      "[[ 94  33]\n",
      " [ 27 119]]\n",
      "Recall: 0.815068493150685\n",
      "Precision: 0.7828947368421053\n",
      "Specificity: 0.7401574803149606\n",
      "Accuracy: 0.7802197802197802\n",
      "F1: 0.7986577181208054\n",
      "AUC: 0.7776129867328228\n",
      "\n",
      "Decision Tree Metrics:\n",
      "Confusion Matrix:\n",
      "[[ 91  36]\n",
      " [ 45 101]]\n",
      "Recall: 0.6917808219178082\n",
      "Precision: 0.7372262773722628\n",
      "Specificity: 0.7165354330708661\n",
      "Accuracy: 0.7032967032967034\n",
      "F1: 0.7137809187279152\n",
      "AUC: 0.7041581274943371\n",
      "\n"
     ]
    }
   ],
   "source": [
    "# Storing the cross-validated full model metrics in a dictionary\n",
    "metrics_cv = {\n",
    "    \"KNN\": {\n",
    "        \"Confusion Matrix\": conf_matrix_knn,\n",
    "        \"Recall\": recall_knn,\n",
    "        \"Precision\": precision_knn,\n",
    "        \"Specificity\": specificity_knn,\n",
    "        \"Accuracy\": accuracy_knn,\n",
    "        \"F1\": f1_knn,\n",
    "        \"AUC\": auc_knn},\n",
    "    \"Logistic Regression\": {\n",
    "        \"Confusion Matrix\": conf_matrix_logreg,\n",
    "        \"Recall\": recall_logreg,\n",
    "        \"Precision\": precision_logreg,\n",
    "        \"Specificity\": specificity_logreg,\n",
    "        \"Accuracy\": accuracy_logreg,\n",
    "        \"F1\": f1_logreg,\n",
    "        \"AUC\": auc_logreg},\n",
    "    \"Decision Tree\": {\n",
    "        \"Confusion Matrix\": conf_matrix_dt,\n",
    "        \"Recall\": recall_dt,\n",
    "        \"Precision\": precision_dt,\n",
    "        \"Specificity\": specificity_dt,\n",
    "        \"Accuracy\": accuracy_dt,\n",
    "        \"F1\": f1_dt,\n",
    "        \"AUC\": auc_dt}\n",
    "}\n",
    "\n",
    "# Iterating over the models\n",
    "for model_name, model_metrics in metrics_cv.items():\n",
    "    print(f\"{model_name} Metrics:\")\n",
    "    for metric_name, metric_value in model_metrics.items():\n",
    "        if metric_name == \"Confusion Matrix\":\n",
    "            print(f\"{metric_name}:\\n{metric_value}\")\n",
    "        else:\n",
    "            print(f\"{metric_name}: {metric_value}\")\n",
    "    print()"
   ]
  },
  {
   "cell_type": "markdown",
   "metadata": {
    "id": "iWnj82r4yzGw"
   },
   "source": [
    "**True Positive Rate** or **Recall** or **Sensitivity** = Of the observations that are truly Class A, how many were predicted to be Class A?"
   ]
  },
  {
   "cell_type": "markdown",
   "metadata": {
    "id": "EJQUNTUO7eX2"
   },
   "source": [
    "*    For KNN, there were 108 TP and 38 FN observations. This resulted in a **74%** rate of true positive cases that were correctly predicted to be Class A.\n",
    "*    For Log Regression, there were 119 TP 27 FN observations. This resulted in a **81.5%** of true positive cases that were correctly predicted to be Class A.\n",
    "*    For Decision Tree, there were 101 TP 45 FN observations. This resulted in a **69.2%** of true positive cases that were correctly predicted to be Class A."
   ]
  },
  {
   "cell_type": "markdown",
   "metadata": {
    "id": "xglQsIFHy0uG"
   },
   "source": [
    "Precision or Positive Predictive Value = Of all the observations classified as Class A, how many of them were truly from Class A?"
   ]
  },
  {
   "cell_type": "markdown",
   "metadata": {
    "id": "S002F1lJ8MvU"
   },
   "source": [
    "*    For KNN, there were 108 TP and 33 FP observations. This resulted in a **76.6%** rate of observations that were truly from Class A.\n",
    "*    For Log Regression, there were 119 TP and 33 FP observations. This resulted in a **78.3%** rate of observations that were truly from Class A.\n",
    "*    For Decision Tree, there were 101 TP and 36 FP observations. This resulted in a **73.7%** rate of observations that were truly from Class A."
   ]
  },
  {
   "cell_type": "markdown",
   "metadata": {
    "id": "mn7W3GX7y4EJ"
   },
   "source": [
    "True Negative Rate or Specificity or Negative Predictive Value = Of all the observations classified as NOT Class A, how many were truly NOT Class A?"
   ]
  },
  {
   "cell_type": "markdown",
   "metadata": {
    "id": "a3CVh77O_f8t"
   },
   "source": [
    "*    For KNN, there were 94 TN and 33 FP, which resulted in a **74%** rate that were truly not in Class A.\n",
    "*    For Log Regression, there were 94 TN and 33 FP, which resulted in a **74%** rate that were truly not in Class A.\n",
    "*    For Decision Tree, there were 91 TN and 36 FP, which resulted in a **71.7%** rate that were truly not in Class A."
   ]
  },
  {
   "cell_type": "markdown",
   "metadata": {
    "id": "BJfvsI8hnBR3"
   },
   "source": [
    "# **Part Three: Discussion**\n",
    "\n",
    "Suppose you have been hired by a hospital to create classification models for heart attack risk.\n",
    "\n",
    "The following questions give a possible scenario for why the hospital is interested in these models. For each one, discuss:\n",
    "\n",
    "Which metric(s) you would use for model selection and why.\n",
    "\n",
    "Which of your final models (Part One Q1-3) you would recommend to the hospital, and why.\n",
    "\n",
    "What score you should expect for your chosen metric(s) using your chosen model to predict future observations."
   ]
  },
  {
   "cell_type": "code",
   "execution_count": 215,
   "metadata": {
    "colab": {
     "base_uri": "https://localhost:8080/",
     "height": 143
    },
    "id": "y1ijdDxKnLlO",
    "outputId": "1c14871c-d652-4de6-d3df-9902bd1d0e2a"
   },
   "outputs": [
    {
     "data": {
      "text/html": [
       "\n",
       "  <div id=\"df-ac4bdb1c-2176-48f5-bede-4b061a69d4a4\" class=\"colab-df-container\">\n",
       "    <div>\n",
       "<style scoped>\n",
       "    .dataframe tbody tr th:only-of-type {\n",
       "        vertical-align: middle;\n",
       "    }\n",
       "\n",
       "    .dataframe tbody tr th {\n",
       "        vertical-align: top;\n",
       "    }\n",
       "\n",
       "    .dataframe thead th {\n",
       "        text-align: right;\n",
       "    }\n",
       "</style>\n",
       "<table border=\"1\" class=\"dataframe\">\n",
       "  <thead>\n",
       "    <tr style=\"text-align: right;\">\n",
       "      <th></th>\n",
       "      <th>Model</th>\n",
       "      <th>Recall</th>\n",
       "      <th>Precision</th>\n",
       "      <th>Specificity</th>\n",
       "      <th>Accuracy</th>\n",
       "      <th>F1</th>\n",
       "      <th>AUC</th>\n",
       "    </tr>\n",
       "  </thead>\n",
       "  <tbody>\n",
       "    <tr>\n",
       "      <th>0</th>\n",
       "      <td>KNN</td>\n",
       "      <td>0.739726</td>\n",
       "      <td>0.765957</td>\n",
       "      <td>0.740157</td>\n",
       "      <td>0.739927</td>\n",
       "      <td>0.752613</td>\n",
       "      <td>0.739942</td>\n",
       "    </tr>\n",
       "    <tr>\n",
       "      <th>1</th>\n",
       "      <td>Logistic Regression</td>\n",
       "      <td>0.815068</td>\n",
       "      <td>0.782895</td>\n",
       "      <td>0.740157</td>\n",
       "      <td>0.780220</td>\n",
       "      <td>0.798658</td>\n",
       "      <td>0.777613</td>\n",
       "    </tr>\n",
       "    <tr>\n",
       "      <th>2</th>\n",
       "      <td>Decision Tree</td>\n",
       "      <td>0.691781</td>\n",
       "      <td>0.737226</td>\n",
       "      <td>0.716535</td>\n",
       "      <td>0.703297</td>\n",
       "      <td>0.713781</td>\n",
       "      <td>0.704158</td>\n",
       "    </tr>\n",
       "  </tbody>\n",
       "</table>\n",
       "</div>\n",
       "    <div class=\"colab-df-buttons\">\n",
       "\n",
       "  <div class=\"colab-df-container\">\n",
       "    <button class=\"colab-df-convert\" onclick=\"convertToInteractive('df-ac4bdb1c-2176-48f5-bede-4b061a69d4a4')\"\n",
       "            title=\"Convert this dataframe to an interactive table.\"\n",
       "            style=\"display:none;\">\n",
       "\n",
       "  <svg xmlns=\"http://www.w3.org/2000/svg\" height=\"24px\" viewBox=\"0 -960 960 960\">\n",
       "    <path d=\"M120-120v-720h720v720H120Zm60-500h600v-160H180v160Zm220 220h160v-160H400v160Zm0 220h160v-160H400v160ZM180-400h160v-160H180v160Zm440 0h160v-160H620v160ZM180-180h160v-160H180v160Zm440 0h160v-160H620v160Z\"/>\n",
       "  </svg>\n",
       "    </button>\n",
       "\n",
       "  <style>\n",
       "    .colab-df-container {\n",
       "      display:flex;\n",
       "      gap: 12px;\n",
       "    }\n",
       "\n",
       "    .colab-df-convert {\n",
       "      background-color: #E8F0FE;\n",
       "      border: none;\n",
       "      border-radius: 50%;\n",
       "      cursor: pointer;\n",
       "      display: none;\n",
       "      fill: #1967D2;\n",
       "      height: 32px;\n",
       "      padding: 0 0 0 0;\n",
       "      width: 32px;\n",
       "    }\n",
       "\n",
       "    .colab-df-convert:hover {\n",
       "      background-color: #E2EBFA;\n",
       "      box-shadow: 0px 1px 2px rgba(60, 64, 67, 0.3), 0px 1px 3px 1px rgba(60, 64, 67, 0.15);\n",
       "      fill: #174EA6;\n",
       "    }\n",
       "\n",
       "    .colab-df-buttons div {\n",
       "      margin-bottom: 4px;\n",
       "    }\n",
       "\n",
       "    [theme=dark] .colab-df-convert {\n",
       "      background-color: #3B4455;\n",
       "      fill: #D2E3FC;\n",
       "    }\n",
       "\n",
       "    [theme=dark] .colab-df-convert:hover {\n",
       "      background-color: #434B5C;\n",
       "      box-shadow: 0px 1px 3px 1px rgba(0, 0, 0, 0.15);\n",
       "      filter: drop-shadow(0px 1px 2px rgba(0, 0, 0, 0.3));\n",
       "      fill: #FFFFFF;\n",
       "    }\n",
       "  </style>\n",
       "\n",
       "    <script>\n",
       "      const buttonEl =\n",
       "        document.querySelector('#df-ac4bdb1c-2176-48f5-bede-4b061a69d4a4 button.colab-df-convert');\n",
       "      buttonEl.style.display =\n",
       "        google.colab.kernel.accessAllowed ? 'block' : 'none';\n",
       "\n",
       "      async function convertToInteractive(key) {\n",
       "        const element = document.querySelector('#df-ac4bdb1c-2176-48f5-bede-4b061a69d4a4');\n",
       "        const dataTable =\n",
       "          await google.colab.kernel.invokeFunction('convertToInteractive',\n",
       "                                                    [key], {});\n",
       "        if (!dataTable) return;\n",
       "\n",
       "        const docLinkHtml = 'Like what you see? Visit the ' +\n",
       "          '<a target=\"_blank\" href=https://colab.research.google.com/notebooks/data_table.ipynb>data table notebook</a>'\n",
       "          + ' to learn more about interactive tables.';\n",
       "        element.innerHTML = '';\n",
       "        dataTable['output_type'] = 'display_data';\n",
       "        await google.colab.output.renderOutput(dataTable, element);\n",
       "        const docLink = document.createElement('div');\n",
       "        docLink.innerHTML = docLinkHtml;\n",
       "        element.appendChild(docLink);\n",
       "      }\n",
       "    </script>\n",
       "  </div>\n",
       "\n",
       "\n",
       "<div id=\"df-3b8ca058-70ec-416b-befe-b8668714061d\">\n",
       "  <button class=\"colab-df-quickchart\" onclick=\"quickchart('df-3b8ca058-70ec-416b-befe-b8668714061d')\"\n",
       "            title=\"Suggest charts\"\n",
       "            style=\"display:none;\">\n",
       "\n",
       "<svg xmlns=\"http://www.w3.org/2000/svg\" height=\"24px\"viewBox=\"0 0 24 24\"\n",
       "     width=\"24px\">\n",
       "    <g>\n",
       "        <path d=\"M19 3H5c-1.1 0-2 .9-2 2v14c0 1.1.9 2 2 2h14c1.1 0 2-.9 2-2V5c0-1.1-.9-2-2-2zM9 17H7v-7h2v7zm4 0h-2V7h2v10zm4 0h-2v-4h2v4z\"/>\n",
       "    </g>\n",
       "</svg>\n",
       "  </button>\n",
       "\n",
       "<style>\n",
       "  .colab-df-quickchart {\n",
       "      --bg-color: #E8F0FE;\n",
       "      --fill-color: #1967D2;\n",
       "      --hover-bg-color: #E2EBFA;\n",
       "      --hover-fill-color: #174EA6;\n",
       "      --disabled-fill-color: #AAA;\n",
       "      --disabled-bg-color: #DDD;\n",
       "  }\n",
       "\n",
       "  [theme=dark] .colab-df-quickchart {\n",
       "      --bg-color: #3B4455;\n",
       "      --fill-color: #D2E3FC;\n",
       "      --hover-bg-color: #434B5C;\n",
       "      --hover-fill-color: #FFFFFF;\n",
       "      --disabled-bg-color: #3B4455;\n",
       "      --disabled-fill-color: #666;\n",
       "  }\n",
       "\n",
       "  .colab-df-quickchart {\n",
       "    background-color: var(--bg-color);\n",
       "    border: none;\n",
       "    border-radius: 50%;\n",
       "    cursor: pointer;\n",
       "    display: none;\n",
       "    fill: var(--fill-color);\n",
       "    height: 32px;\n",
       "    padding: 0;\n",
       "    width: 32px;\n",
       "  }\n",
       "\n",
       "  .colab-df-quickchart:hover {\n",
       "    background-color: var(--hover-bg-color);\n",
       "    box-shadow: 0 1px 2px rgba(60, 64, 67, 0.3), 0 1px 3px 1px rgba(60, 64, 67, 0.15);\n",
       "    fill: var(--button-hover-fill-color);\n",
       "  }\n",
       "\n",
       "  .colab-df-quickchart-complete:disabled,\n",
       "  .colab-df-quickchart-complete:disabled:hover {\n",
       "    background-color: var(--disabled-bg-color);\n",
       "    fill: var(--disabled-fill-color);\n",
       "    box-shadow: none;\n",
       "  }\n",
       "\n",
       "  .colab-df-spinner {\n",
       "    border: 2px solid var(--fill-color);\n",
       "    border-color: transparent;\n",
       "    border-bottom-color: var(--fill-color);\n",
       "    animation:\n",
       "      spin 1s steps(1) infinite;\n",
       "  }\n",
       "\n",
       "  @keyframes spin {\n",
       "    0% {\n",
       "      border-color: transparent;\n",
       "      border-bottom-color: var(--fill-color);\n",
       "      border-left-color: var(--fill-color);\n",
       "    }\n",
       "    20% {\n",
       "      border-color: transparent;\n",
       "      border-left-color: var(--fill-color);\n",
       "      border-top-color: var(--fill-color);\n",
       "    }\n",
       "    30% {\n",
       "      border-color: transparent;\n",
       "      border-left-color: var(--fill-color);\n",
       "      border-top-color: var(--fill-color);\n",
       "      border-right-color: var(--fill-color);\n",
       "    }\n",
       "    40% {\n",
       "      border-color: transparent;\n",
       "      border-right-color: var(--fill-color);\n",
       "      border-top-color: var(--fill-color);\n",
       "    }\n",
       "    60% {\n",
       "      border-color: transparent;\n",
       "      border-right-color: var(--fill-color);\n",
       "    }\n",
       "    80% {\n",
       "      border-color: transparent;\n",
       "      border-right-color: var(--fill-color);\n",
       "      border-bottom-color: var(--fill-color);\n",
       "    }\n",
       "    90% {\n",
       "      border-color: transparent;\n",
       "      border-bottom-color: var(--fill-color);\n",
       "    }\n",
       "  }\n",
       "</style>\n",
       "\n",
       "  <script>\n",
       "    async function quickchart(key) {\n",
       "      const quickchartButtonEl =\n",
       "        document.querySelector('#' + key + ' button');\n",
       "      quickchartButtonEl.disabled = true;  // To prevent multiple clicks.\n",
       "      quickchartButtonEl.classList.add('colab-df-spinner');\n",
       "      try {\n",
       "        const charts = await google.colab.kernel.invokeFunction(\n",
       "            'suggestCharts', [key], {});\n",
       "      } catch (error) {\n",
       "        console.error('Error during call to suggestCharts:', error);\n",
       "      }\n",
       "      quickchartButtonEl.classList.remove('colab-df-spinner');\n",
       "      quickchartButtonEl.classList.add('colab-df-quickchart-complete');\n",
       "    }\n",
       "    (() => {\n",
       "      let quickchartButtonEl =\n",
       "        document.querySelector('#df-3b8ca058-70ec-416b-befe-b8668714061d button');\n",
       "      quickchartButtonEl.style.display =\n",
       "        google.colab.kernel.accessAllowed ? 'block' : 'none';\n",
       "    })();\n",
       "  </script>\n",
       "</div>\n",
       "    </div>\n",
       "  </div>\n"
      ],
      "text/plain": [
       "                 Model    Recall  Precision  Specificity  Accuracy        F1  \\\n",
       "0                  KNN  0.739726   0.765957     0.740157  0.739927  0.752613   \n",
       "1  Logistic Regression  0.815068   0.782895     0.740157  0.780220  0.798658   \n",
       "2        Decision Tree  0.691781   0.737226     0.716535  0.703297  0.713781   \n",
       "\n",
       "        AUC  \n",
       "0  0.739942  \n",
       "1  0.777613  \n",
       "2  0.704158  "
      ]
     },
     "execution_count": 215,
     "metadata": {},
     "output_type": "execute_result"
    }
   ],
   "source": [
    "# Creating a dataframe for comparing cross-validated full model performance metrics\n",
    "models = [\"KNN\", \"Logistic Regression\", \"Decision Tree\"]\n",
    "recalls = [recall_knn, recall_logreg, recall_dt]\n",
    "precisions = [precision_knn, precision_logreg, precision_dt]\n",
    "specificities = [specificity_knn, specificity_logreg, specificity_dt]\n",
    "accuracies = [accuracy_knn, accuracy_logreg, accuracy_dt]\n",
    "f1_scores = [f1_knn, f1_logreg, f1_dt]\n",
    "auc_scores = [auc_knn, auc_logreg, auc_dt]\n",
    "\n",
    "data = {\n",
    "    \"Model\": models,\n",
    "    \"Recall\": recalls,\n",
    "    \"Precision\": precisions,\n",
    "    \"Specificity\": specificities,\n",
    "    \"Accuracy\": accuracies,\n",
    "    \"F1\": f1_scores,\n",
    "    \"AUC\": auc_scores\n",
    "}\n",
    "\n",
    "pd.DataFrame(data)"
   ]
  },
  {
   "cell_type": "code",
   "execution_count": 216,
   "metadata": {
    "colab": {
     "base_uri": "https://localhost:8080/"
    },
    "id": "D5S_rYhxiV8U",
    "outputId": "0a8397e3-cf30-4998-92e8-34a76806ee6f"
   },
   "outputs": [
    {
     "name": "stdout",
     "output_type": "stream",
     "text": [
      "Logistic Regression Test Set Metrics:\n",
      "Recall: [0.6216216216216216]\n"
     ]
    }
   ],
   "source": [
    "# Logistic Regression Recall score for test set predictions\n",
    "recall_logreg_test = recall_score(y_test, pred_2)\n",
    "\n",
    "print(\"Logistic Regression Test Set Metrics:\")\n",
    "print(f\"Recall: [{recall_logreg_test}]\")"
   ]
  },
  {
   "cell_type": "code",
   "execution_count": 217,
   "metadata": {
    "colab": {
     "base_uri": "https://localhost:8080/"
    },
    "id": "VLLQLuXZNL9x",
    "outputId": "cb4d8390-7138-41b2-d35b-00657a0eb831"
   },
   "outputs": [
    {
     "name": "stdout",
     "output_type": "stream",
     "text": [
      "Logistic Regression Test Set Metrics:\n",
      "Recall: [0.75]\n"
     ]
    }
   ],
   "source": [
    "# Logistic Regression Specificity score for test set predictions\n",
    "conf_matrix_logreg_test = confusion_matrix(y_test, pred_2)\n",
    "tn, fp, fn, tp = conf_matrix_logreg_test.ravel()\n",
    "specificity_logreg_test = tn / (tn + fp)\n",
    "\n",
    "print(\"Logistic Regression Test Set Metrics:\")\n",
    "print(f\"Recall: [{specificity_logreg_test}]\")"
   ]
  },
  {
   "cell_type": "code",
   "execution_count": 218,
   "metadata": {
    "colab": {
     "base_uri": "https://localhost:8080/"
    },
    "id": "-Hq8BzdCKZWP",
    "outputId": "8ade25f3-14cd-4c7d-f0f9-06837a7af1ee"
   },
   "outputs": [
    {
     "name": "stdout",
     "output_type": "stream",
     "text": [
      "Logistic Regression Test Set Metrics:\n",
      "Precision: [0.7419354838709677]\n"
     ]
    }
   ],
   "source": [
    "# Logistic Regression Precision score for test set predictions\n",
    "precision_logreg_test = precision_score(y_test, pred_2)\n",
    "\n",
    "print(\"Logistic Regression Test Set Metrics:\")\n",
    "print(f\"Precision: [{precision_logreg_test}]\")"
   ]
  },
  {
   "cell_type": "code",
   "execution_count": 219,
   "metadata": {
    "colab": {
     "base_uri": "https://localhost:8080/"
    },
    "id": "4-KsgcVtODiS",
    "outputId": "ed97101f-87b5-49c8-b612-0630ab3be0c0"
   },
   "outputs": [
    {
     "name": "stdout",
     "output_type": "stream",
     "text": [
      "Logistic Regression Test Set Metrics:\n",
      "Accuracy: [0.6811594202898551]\n"
     ]
    }
   ],
   "source": [
    "# Logistic Regression Accuracy score for test set predictions\n",
    "accuracy_logreg_test = accuracy_score(y_test, pred_2)\n",
    "\n",
    "print(\"Logistic Regression Test Set Metrics:\")\n",
    "print(f\"Accuracy: [{accuracy_logreg_test}]\")"
   ]
  },
  {
   "cell_type": "code",
   "execution_count": 220,
   "metadata": {
    "colab": {
     "base_uri": "https://localhost:8080/"
    },
    "id": "JFwn_-jiTdwo",
    "outputId": "3ce799e2-638e-4627-904b-29f504c73c5e"
   },
   "outputs": [
    {
     "name": "stdout",
     "output_type": "stream",
     "text": [
      "Logistic Regression Test Set Metrics:\n",
      "F1: [0.676470588235294]\n"
     ]
    }
   ],
   "source": [
    "# Logistic Regression Accuracy score for test set predictions\n",
    "f1_logreg_test = f1_score(y_test, pred_2)\n",
    "\n",
    "print(\"Logistic Regression Test Set Metrics:\")\n",
    "print(f\"F1: [{f1_logreg_test}]\")"
   ]
  },
  {
   "cell_type": "markdown",
   "metadata": {
    "id": "6ikmCaJnnKdr"
   },
   "source": [
    "# Q1\n",
    "The hospital faces severe lawsuits if they deem a patient to be low risk, and that patient later experiences a heart attack."
   ]
  },
  {
   "cell_type": "markdown",
   "metadata": {
    "id": "_LgijmgvbcuL"
   },
   "source": [
    "*    Recall should be chosen as the metric to decide the model selection because it prioritizes minimizing false negatives, which in this case are patients predicted as low risk but are actually high risk.\n",
    "*    The logistic regression model had the highest recall percentage of **81.5%**. When comparing the precision metric, the log regression model was also higher than the other two models. So, in that aspect, it also does the best in minimizing false positives. The specificity rate is also tied with KNN at **74%** and better than the decision tree model, which means it is also the best in correctly identifying patients who are at low risk of heart attack.\n",
    "*    The test set predictions had a recall of **62.2%**. A recall score between the range of **62.2%** and **81.5%** should be expected to predict future observations."
   ]
  },
  {
   "cell_type": "markdown",
   "metadata": {
    "id": "XirwNS9WnQrv"
   },
   "source": [
    "# Q2\n",
    "The hospital is overfull, and wants to only use bed space for patients most in need of monitoring due to heart attack risk."
   ]
  },
  {
   "cell_type": "markdown",
   "metadata": {
    "id": "7MILruHvoqN4"
   },
   "source": [
    "*    Specificity can be used to identify patients who are at actually at low risk among all negative cases. A high specificity will make sure low-risk patients are correctly identified, as the hospital has a limited number of beds to use for patients who are most in need of monitoring due to heart attack risk. Recall should also be considered in order to identify high-risk patients, ensuring that the chance of incorrectly identifying these patients is minimized.\n",
    "*    Both the KNN and Logistic Regression models have the highest specificity, at **74.0%**, so the recall score should be considered. Logistic regression again is the better model, as it has a higher recall score of **81.5%**, as compared to the KNN recall score of **74%**.\n",
    "*    The test set predictions had a specificity score of **75%**, so a range of **74%** to **75%** should be expected to predict future observations."
   ]
  },
  {
   "cell_type": "markdown",
   "metadata": {
    "id": "XyWGXPaonU8E"
   },
   "source": [
    "# Q3\n",
    "The hospital is studying root causes of heart attacks, and would like to understand which biological measures are associated with heart attack risk."
   ]
  },
  {
   "cell_type": "markdown",
   "metadata": {
    "id": "gcq5BpikOw7j"
   },
   "source": [
    "*    Analyzing the precision score can aid in identifying the biological measures that show a strong association with heart attacks. This score indicates that when the model makes a prediction, it is more likely to be accurate, helping to determine the features most relevant to the prediction of heart attacks. However, precision along with other metrics such as recall, and specificity should all be considered when choosing a model.\n",
    "*    The precision score for Logistic Regression, **78.3%** is also higher than the other two models, while also having the highest recall, **81.5%**, and tied for the highest specificity, **74%**. The Logistic Regression model should be chosen.\n",
    "*    The test set predictions had a precision score of **74.2%**, so a range of **74.2%** to **78.3%** should be expected to predict future observations."
   ]
  },
  {
   "cell_type": "markdown",
   "metadata": {
    "id": "LbKK9ANDnYcT"
   },
   "source": [
    "# Q4\n",
    "The hospital is training a new batch of doctors, and they would like to compare the diagnoses of these doctors to the predictions given by the algorithm to measure the ability of new doctors to diagnose patients."
   ]
  },
  {
   "cell_type": "markdown",
   "metadata": {
    "id": "Yj9Fy4cGMLzo"
   },
   "source": [
    "*    Accuracy should be used to make a general assessment of the models as its score will determine how often the new batch of doctors and the algorithm are correct in their diagnoses. Accuracy considers true positives and true negatives and focuses on the correct predictions made by the models. However, accuracy can be misleading if there is an unbalanced ratio of patients who are at risk and those who are not. After accuracy is considered, F1 score should be considered because it balances recall and precision and is important when diagnosing those who are actually at risk and identifying if these diagnoses are accurate. For the new batch of doctors, a high recall score will indicate if they are effectively diagnosing the patients who are actually at risk and a high F1 score will assess whether or not the new doctors’ diagnoses are accurate.\n",
    "*    The accuracy score for the Logistic Regression model was **78%**, and this was higher than the other two models. It also had the highest F1 score, **80%**. The Logistic Regression model should be chosen again.\n",
    "*    The test set predictions had a accuracy score of **68.1%**, so a range of **68.1%** to **78%** should be considered. For F1, the test set reported a score of **67.6%**, so a range of **67.6%** to **80%** should be expected."
   ]
  },
  {
   "cell_type": "markdown",
   "metadata": {
    "id": "DPEd_aBGncmP"
   },
   "source": [
    "# **Part Four: Validation**\n",
    "\n",
    "Before sharing the dataset with you, I set aside a random 10% of the observations to serve as a final validation set.\n",
    "\n",
    "ha_validation <- pd.read_csv(\"https://www.dropbox.com/s/jkwqdiyx6o6oad0/heart_attack_validation.csv?dl=1\")\n",
    "\n",
    "Use each of your final models in Part One Q1-3, predict the target variable in the validation dataset.\n",
    "\n",
    "For each, output a confusion matrix, and report the ROC AUC, the precision, and the recall.\n",
    "\n",
    "Compare these values to the cross-validated estimates you reported in Part One and Part Two. Did our measure of model success turn out to be approximately correct for the validation data?"
   ]
  },
  {
   "cell_type": "code",
   "execution_count": 221,
   "metadata": {
    "id": "j9VSRFm1nlwT"
   },
   "outputs": [],
   "source": [
    "# Importing the validation set\n",
    "ha_validation = pd.read_csv(\"https://www.dropbox.com/s/jkwqdiyx6o6oad0/heart_attack_validation.csv?dl=1\")"
   ]
  },
  {
   "cell_type": "code",
   "execution_count": 222,
   "metadata": {
    "colab": {
     "base_uri": "https://localhost:8080/"
    },
    "id": "tJrgl-Dfv2s3",
    "outputId": "122ed3be-4639-4666-8d28-4861639b4384"
   },
   "outputs": [
    {
     "data": {
      "text/plain": [
       "(30, 8)"
      ]
     },
     "execution_count": 222,
     "metadata": {},
     "output_type": "execute_result"
    }
   ],
   "source": [
    "# Checking for counts of rows and columns\n",
    "ha_validation.shape"
   ]
  },
  {
   "cell_type": "markdown",
   "metadata": {
    "id": "N-Os_1lx06E1"
   },
   "source": [
    "*There are only 30 observations in the validation set, which might result in some fluctuations in metric performances.*"
   ]
  },
  {
   "cell_type": "code",
   "execution_count": 223,
   "metadata": {
    "colab": {
     "base_uri": "https://localhost:8080/"
    },
    "id": "d4k-3f7V0pj4",
    "outputId": "3b578e14-870b-42d9-a686-095deabb6357"
   },
   "outputs": [
    {
     "data": {
      "text/plain": [
       "1    19\n",
       "0    11\n",
       "Name: output, dtype: int64"
      ]
     },
     "execution_count": 223,
     "metadata": {},
     "output_type": "execute_result"
    }
   ],
   "source": [
    "# Checking the value counts of the 'output' variable\n",
    "ha_validation['output'].value_counts()"
   ]
  },
  {
   "cell_type": "markdown",
   "metadata": {
    "id": "Vyy4t5Mr0s8U"
   },
   "source": [
    "*The ratio of 1 to 0 is almost 2:1, which is unbalanced when compared to what the best model was trained on.*"
   ]
  },
  {
   "cell_type": "code",
   "execution_count": 224,
   "metadata": {
    "id": "Xb6HQNbtnmvV"
   },
   "outputs": [],
   "source": [
    "# Defining the validation response and predictor variables\n",
    "X1 = ha_validation.drop('output', axis=1)\n",
    "y1 = ha_validation['output']\n",
    "\n",
    "# Preprocessing the validation data\n",
    "X1 = ct.transform(X1)"
   ]
  },
  {
   "cell_type": "code",
   "execution_count": 225,
   "metadata": {
    "id": "Xhwff9eKnmtP"
   },
   "outputs": [],
   "source": [
    "# Predicting with the best KNN model\n",
    "pred_v1 = best_model1.predict(X1)\n",
    "\n",
    "# Predicting with the best Logistic Regression model\n",
    "pred_v2 = best_model2.predict(X1)\n",
    "\n",
    "# Predicting with the best Decision Tree model\n",
    "pred_v3 = best_model3.predict(X1)"
   ]
  },
  {
   "cell_type": "code",
   "execution_count": 226,
   "metadata": {
    "id": "2Sx7-lvanmrH"
   },
   "outputs": [],
   "source": [
    "# KNN Validation Metrics\n",
    "val_conf_matrix_knn = confusion_matrix(y1, pred_v1)\n",
    "tn, fp, fn, tp = val_conf_matrix_knn.ravel()\n",
    "val_recall_knn = recall_score(y1, pred_v1)\n",
    "val_precision_knn = precision_score(y1, pred_v1)\n",
    "val_auc_knn = roc_auc_score(y1, pred_v1)\n",
    "\n",
    "# Logistic Regression Validation Metrics\n",
    "val_conf_matrix_logreg = confusion_matrix(y1, pred_v2)\n",
    "tn, fp, fn, tp = val_conf_matrix_logreg.ravel()\n",
    "val_recall_logreg = recall_score(y1, pred_v2)\n",
    "val_precision_logreg = precision_score(y1, pred_v2)\n",
    "val_auc_logreg = roc_auc_score(y1, pred_v2)\n",
    "\n",
    "# Decision Tree Validation Metrics\n",
    "val_conf_matrix_dt = confusion_matrix(y1, pred_v3)\n",
    "tn, fp, fn, tp = val_conf_matrix_dt.ravel()\n",
    "val_recall_dt = recall_score(y1, pred_v3)\n",
    "val_precision_dt = precision_score(y1, pred_v3)\n",
    "val_auc_dt = roc_auc_score(y1, pred_v3)"
   ]
  },
  {
   "cell_type": "code",
   "execution_count": 227,
   "metadata": {
    "colab": {
     "base_uri": "https://localhost:8080/"
    },
    "id": "v2AuTSfGnmmC",
    "outputId": "08dbd24a-febe-4a33-d022-7ee19641a841"
   },
   "outputs": [
    {
     "name": "stdout",
     "output_type": "stream",
     "text": [
      "KNN Metrics:\n",
      "Confusion Matrix:\n",
      "[[ 9  2]\n",
      " [ 6 13]]\n",
      "Recall: 0.6842105263157895\n",
      "Precision: 0.8666666666666667\n",
      "AUC: 0.7511961722488038\n",
      "\n",
      "Logistic Regression Metrics:\n",
      "Confusion Matrix:\n",
      "[[ 9  2]\n",
      " [ 4 15]]\n",
      "Recall: 0.7894736842105263\n",
      "Precision: 0.8823529411764706\n",
      "AUC: 0.8038277511961722\n",
      "\n",
      "Decision Tree Metrics:\n",
      "Confusion Matrix:\n",
      "[[10  1]\n",
      " [ 8 11]]\n",
      "Recall: 0.5789473684210527\n",
      "Precision: 0.9166666666666666\n",
      "AUC: 0.7440191387559808\n",
      "\n"
     ]
    }
   ],
   "source": [
    "# Storing the validation metrics in a dictionary\n",
    "metrics_val = {\n",
    "    \"KNN\": {\n",
    "        \"Confusion Matrix\": val_conf_matrix_knn,\n",
    "        \"Recall\": val_recall_knn,\n",
    "        \"Precision\": val_precision_knn,\n",
    "        \"AUC\": val_auc_knn},\n",
    "    \"Logistic Regression\": {\n",
    "        \"Confusion Matrix\": val_conf_matrix_logreg,\n",
    "        \"Recall\": val_recall_logreg,\n",
    "        \"Precision\": val_precision_logreg,\n",
    "        \"AUC\": val_auc_logreg},\n",
    "    \"Decision Tree\": {\n",
    "        \"Confusion Matrix\": val_conf_matrix_dt,\n",
    "        \"Recall\": val_recall_dt,\n",
    "        \"Precision\": val_precision_dt,\n",
    "        \"AUC\": val_auc_dt}\n",
    "}\n",
    "\n",
    "# Iterating over the models\n",
    "for model_name, model_metrics in metrics_val.items():\n",
    "    print(f\"{model_name} Metrics:\")\n",
    "    for metric_name, metric_value in model_metrics.items():\n",
    "        if metric_name == \"Confusion Matrix\":\n",
    "            print(f\"{metric_name}:\\n{metric_value}\")\n",
    "        else:\n",
    "            print(f\"{metric_name}: {metric_value}\")\n",
    "    print()"
   ]
  },
  {
   "cell_type": "code",
   "execution_count": 228,
   "metadata": {
    "colab": {
     "base_uri": "https://localhost:8080/",
     "height": 331
    },
    "id": "wG3E2_eRy3HH",
    "outputId": "f6f594a4-0967-4483-a2a4-5c3cec2c3e63"
   },
   "outputs": [
    {
     "data": {
      "text/html": [
       "\n",
       "  <div id=\"df-13fddb75-b448-4220-a746-3d4f13d1939e\" class=\"colab-df-container\">\n",
       "    <div>\n",
       "<style scoped>\n",
       "    .dataframe tbody tr th:only-of-type {\n",
       "        vertical-align: middle;\n",
       "    }\n",
       "\n",
       "    .dataframe tbody tr th {\n",
       "        vertical-align: top;\n",
       "    }\n",
       "\n",
       "    .dataframe thead th {\n",
       "        text-align: right;\n",
       "    }\n",
       "</style>\n",
       "<table border=\"1\" class=\"dataframe\">\n",
       "  <thead>\n",
       "    <tr style=\"text-align: right;\">\n",
       "      <th></th>\n",
       "      <th>Model</th>\n",
       "      <th>Metric</th>\n",
       "      <th>CV Value</th>\n",
       "      <th>Validation Value</th>\n",
       "    </tr>\n",
       "  </thead>\n",
       "  <tbody>\n",
       "    <tr>\n",
       "      <th>0</th>\n",
       "      <td>KNN</td>\n",
       "      <td>Recall</td>\n",
       "      <td>0.7397</td>\n",
       "      <td>0.6842</td>\n",
       "    </tr>\n",
       "    <tr>\n",
       "      <th>1</th>\n",
       "      <td>KNN</td>\n",
       "      <td>Precision</td>\n",
       "      <td>0.7660</td>\n",
       "      <td>0.8667</td>\n",
       "    </tr>\n",
       "    <tr>\n",
       "      <th>2</th>\n",
       "      <td>KNN</td>\n",
       "      <td>AUC</td>\n",
       "      <td>0.7399</td>\n",
       "      <td>0.7512</td>\n",
       "    </tr>\n",
       "    <tr>\n",
       "      <th>3</th>\n",
       "      <td>Logistic Regression</td>\n",
       "      <td>Recall</td>\n",
       "      <td>0.8151</td>\n",
       "      <td>0.7895</td>\n",
       "    </tr>\n",
       "    <tr>\n",
       "      <th>4</th>\n",
       "      <td>Logistic Regression</td>\n",
       "      <td>Precision</td>\n",
       "      <td>0.7829</td>\n",
       "      <td>0.8824</td>\n",
       "    </tr>\n",
       "    <tr>\n",
       "      <th>5</th>\n",
       "      <td>Logistic Regression</td>\n",
       "      <td>AUC</td>\n",
       "      <td>0.7776</td>\n",
       "      <td>0.8038</td>\n",
       "    </tr>\n",
       "    <tr>\n",
       "      <th>6</th>\n",
       "      <td>Decision Tree</td>\n",
       "      <td>Recall</td>\n",
       "      <td>0.6918</td>\n",
       "      <td>0.5789</td>\n",
       "    </tr>\n",
       "    <tr>\n",
       "      <th>7</th>\n",
       "      <td>Decision Tree</td>\n",
       "      <td>Precision</td>\n",
       "      <td>0.7372</td>\n",
       "      <td>0.9167</td>\n",
       "    </tr>\n",
       "    <tr>\n",
       "      <th>8</th>\n",
       "      <td>Decision Tree</td>\n",
       "      <td>AUC</td>\n",
       "      <td>0.7042</td>\n",
       "      <td>0.7440</td>\n",
       "    </tr>\n",
       "  </tbody>\n",
       "</table>\n",
       "</div>\n",
       "    <div class=\"colab-df-buttons\">\n",
       "\n",
       "  <div class=\"colab-df-container\">\n",
       "    <button class=\"colab-df-convert\" onclick=\"convertToInteractive('df-13fddb75-b448-4220-a746-3d4f13d1939e')\"\n",
       "            title=\"Convert this dataframe to an interactive table.\"\n",
       "            style=\"display:none;\">\n",
       "\n",
       "  <svg xmlns=\"http://www.w3.org/2000/svg\" height=\"24px\" viewBox=\"0 -960 960 960\">\n",
       "    <path d=\"M120-120v-720h720v720H120Zm60-500h600v-160H180v160Zm220 220h160v-160H400v160Zm0 220h160v-160H400v160ZM180-400h160v-160H180v160Zm440 0h160v-160H620v160ZM180-180h160v-160H180v160Zm440 0h160v-160H620v160Z\"/>\n",
       "  </svg>\n",
       "    </button>\n",
       "\n",
       "  <style>\n",
       "    .colab-df-container {\n",
       "      display:flex;\n",
       "      gap: 12px;\n",
       "    }\n",
       "\n",
       "    .colab-df-convert {\n",
       "      background-color: #E8F0FE;\n",
       "      border: none;\n",
       "      border-radius: 50%;\n",
       "      cursor: pointer;\n",
       "      display: none;\n",
       "      fill: #1967D2;\n",
       "      height: 32px;\n",
       "      padding: 0 0 0 0;\n",
       "      width: 32px;\n",
       "    }\n",
       "\n",
       "    .colab-df-convert:hover {\n",
       "      background-color: #E2EBFA;\n",
       "      box-shadow: 0px 1px 2px rgba(60, 64, 67, 0.3), 0px 1px 3px 1px rgba(60, 64, 67, 0.15);\n",
       "      fill: #174EA6;\n",
       "    }\n",
       "\n",
       "    .colab-df-buttons div {\n",
       "      margin-bottom: 4px;\n",
       "    }\n",
       "\n",
       "    [theme=dark] .colab-df-convert {\n",
       "      background-color: #3B4455;\n",
       "      fill: #D2E3FC;\n",
       "    }\n",
       "\n",
       "    [theme=dark] .colab-df-convert:hover {\n",
       "      background-color: #434B5C;\n",
       "      box-shadow: 0px 1px 3px 1px rgba(0, 0, 0, 0.15);\n",
       "      filter: drop-shadow(0px 1px 2px rgba(0, 0, 0, 0.3));\n",
       "      fill: #FFFFFF;\n",
       "    }\n",
       "  </style>\n",
       "\n",
       "    <script>\n",
       "      const buttonEl =\n",
       "        document.querySelector('#df-13fddb75-b448-4220-a746-3d4f13d1939e button.colab-df-convert');\n",
       "      buttonEl.style.display =\n",
       "        google.colab.kernel.accessAllowed ? 'block' : 'none';\n",
       "\n",
       "      async function convertToInteractive(key) {\n",
       "        const element = document.querySelector('#df-13fddb75-b448-4220-a746-3d4f13d1939e');\n",
       "        const dataTable =\n",
       "          await google.colab.kernel.invokeFunction('convertToInteractive',\n",
       "                                                    [key], {});\n",
       "        if (!dataTable) return;\n",
       "\n",
       "        const docLinkHtml = 'Like what you see? Visit the ' +\n",
       "          '<a target=\"_blank\" href=https://colab.research.google.com/notebooks/data_table.ipynb>data table notebook</a>'\n",
       "          + ' to learn more about interactive tables.';\n",
       "        element.innerHTML = '';\n",
       "        dataTable['output_type'] = 'display_data';\n",
       "        await google.colab.output.renderOutput(dataTable, element);\n",
       "        const docLink = document.createElement('div');\n",
       "        docLink.innerHTML = docLinkHtml;\n",
       "        element.appendChild(docLink);\n",
       "      }\n",
       "    </script>\n",
       "  </div>\n",
       "\n",
       "\n",
       "<div id=\"df-ca90eb7d-e8d1-4346-9cb8-5fa6a48bf8f7\">\n",
       "  <button class=\"colab-df-quickchart\" onclick=\"quickchart('df-ca90eb7d-e8d1-4346-9cb8-5fa6a48bf8f7')\"\n",
       "            title=\"Suggest charts\"\n",
       "            style=\"display:none;\">\n",
       "\n",
       "<svg xmlns=\"http://www.w3.org/2000/svg\" height=\"24px\"viewBox=\"0 0 24 24\"\n",
       "     width=\"24px\">\n",
       "    <g>\n",
       "        <path d=\"M19 3H5c-1.1 0-2 .9-2 2v14c0 1.1.9 2 2 2h14c1.1 0 2-.9 2-2V5c0-1.1-.9-2-2-2zM9 17H7v-7h2v7zm4 0h-2V7h2v10zm4 0h-2v-4h2v4z\"/>\n",
       "    </g>\n",
       "</svg>\n",
       "  </button>\n",
       "\n",
       "<style>\n",
       "  .colab-df-quickchart {\n",
       "      --bg-color: #E8F0FE;\n",
       "      --fill-color: #1967D2;\n",
       "      --hover-bg-color: #E2EBFA;\n",
       "      --hover-fill-color: #174EA6;\n",
       "      --disabled-fill-color: #AAA;\n",
       "      --disabled-bg-color: #DDD;\n",
       "  }\n",
       "\n",
       "  [theme=dark] .colab-df-quickchart {\n",
       "      --bg-color: #3B4455;\n",
       "      --fill-color: #D2E3FC;\n",
       "      --hover-bg-color: #434B5C;\n",
       "      --hover-fill-color: #FFFFFF;\n",
       "      --disabled-bg-color: #3B4455;\n",
       "      --disabled-fill-color: #666;\n",
       "  }\n",
       "\n",
       "  .colab-df-quickchart {\n",
       "    background-color: var(--bg-color);\n",
       "    border: none;\n",
       "    border-radius: 50%;\n",
       "    cursor: pointer;\n",
       "    display: none;\n",
       "    fill: var(--fill-color);\n",
       "    height: 32px;\n",
       "    padding: 0;\n",
       "    width: 32px;\n",
       "  }\n",
       "\n",
       "  .colab-df-quickchart:hover {\n",
       "    background-color: var(--hover-bg-color);\n",
       "    box-shadow: 0 1px 2px rgba(60, 64, 67, 0.3), 0 1px 3px 1px rgba(60, 64, 67, 0.15);\n",
       "    fill: var(--button-hover-fill-color);\n",
       "  }\n",
       "\n",
       "  .colab-df-quickchart-complete:disabled,\n",
       "  .colab-df-quickchart-complete:disabled:hover {\n",
       "    background-color: var(--disabled-bg-color);\n",
       "    fill: var(--disabled-fill-color);\n",
       "    box-shadow: none;\n",
       "  }\n",
       "\n",
       "  .colab-df-spinner {\n",
       "    border: 2px solid var(--fill-color);\n",
       "    border-color: transparent;\n",
       "    border-bottom-color: var(--fill-color);\n",
       "    animation:\n",
       "      spin 1s steps(1) infinite;\n",
       "  }\n",
       "\n",
       "  @keyframes spin {\n",
       "    0% {\n",
       "      border-color: transparent;\n",
       "      border-bottom-color: var(--fill-color);\n",
       "      border-left-color: var(--fill-color);\n",
       "    }\n",
       "    20% {\n",
       "      border-color: transparent;\n",
       "      border-left-color: var(--fill-color);\n",
       "      border-top-color: var(--fill-color);\n",
       "    }\n",
       "    30% {\n",
       "      border-color: transparent;\n",
       "      border-left-color: var(--fill-color);\n",
       "      border-top-color: var(--fill-color);\n",
       "      border-right-color: var(--fill-color);\n",
       "    }\n",
       "    40% {\n",
       "      border-color: transparent;\n",
       "      border-right-color: var(--fill-color);\n",
       "      border-top-color: var(--fill-color);\n",
       "    }\n",
       "    60% {\n",
       "      border-color: transparent;\n",
       "      border-right-color: var(--fill-color);\n",
       "    }\n",
       "    80% {\n",
       "      border-color: transparent;\n",
       "      border-right-color: var(--fill-color);\n",
       "      border-bottom-color: var(--fill-color);\n",
       "    }\n",
       "    90% {\n",
       "      border-color: transparent;\n",
       "      border-bottom-color: var(--fill-color);\n",
       "    }\n",
       "  }\n",
       "</style>\n",
       "\n",
       "  <script>\n",
       "    async function quickchart(key) {\n",
       "      const quickchartButtonEl =\n",
       "        document.querySelector('#' + key + ' button');\n",
       "      quickchartButtonEl.disabled = true;  // To prevent multiple clicks.\n",
       "      quickchartButtonEl.classList.add('colab-df-spinner');\n",
       "      try {\n",
       "        const charts = await google.colab.kernel.invokeFunction(\n",
       "            'suggestCharts', [key], {});\n",
       "      } catch (error) {\n",
       "        console.error('Error during call to suggestCharts:', error);\n",
       "      }\n",
       "      quickchartButtonEl.classList.remove('colab-df-spinner');\n",
       "      quickchartButtonEl.classList.add('colab-df-quickchart-complete');\n",
       "    }\n",
       "    (() => {\n",
       "      let quickchartButtonEl =\n",
       "        document.querySelector('#df-ca90eb7d-e8d1-4346-9cb8-5fa6a48bf8f7 button');\n",
       "      quickchartButtonEl.style.display =\n",
       "        google.colab.kernel.accessAllowed ? 'block' : 'none';\n",
       "    })();\n",
       "  </script>\n",
       "</div>\n",
       "    </div>\n",
       "  </div>\n"
      ],
      "text/plain": [
       "                 Model     Metric  CV Value  Validation Value\n",
       "0                  KNN     Recall    0.7397            0.6842\n",
       "1                  KNN  Precision    0.7660            0.8667\n",
       "2                  KNN        AUC    0.7399            0.7512\n",
       "3  Logistic Regression     Recall    0.8151            0.7895\n",
       "4  Logistic Regression  Precision    0.7829            0.8824\n",
       "5  Logistic Regression        AUC    0.7776            0.8038\n",
       "6        Decision Tree     Recall    0.6918            0.5789\n",
       "7        Decision Tree  Precision    0.7372            0.9167\n",
       "8        Decision Tree        AUC    0.7042            0.7440"
      ]
     },
     "execution_count": 228,
     "metadata": {},
     "output_type": "execute_result"
    }
   ],
   "source": [
    "# Comparing the CV full model metrics to the validation set metrics\n",
    "# Metrics from cross-validation\n",
    "metrics_cv = {\n",
    "    \"KNN\": {\"Recall\": 0.7397, \"Precision\": 0.7660, \"AUC\": 0.7399},\n",
    "    \"Logistic Regression\": {\"Recall\": 0.8151, \"Precision\": 0.7829, \"AUC\": 0.7776},\n",
    "    \"Decision Tree\": {\"Recall\": 0.6918, \"Precision\": 0.7372, \"AUC\": 0.7042}\n",
    "}\n",
    "\n",
    "# Metrics from validation\n",
    "metrics_val = {\n",
    "    \"KNN\": {\"Recall\": 0.6842, \"Precision\": 0.8667, \"AUC\": 0.7512},\n",
    "    \"Logistic Regression\": {\"Recall\": 0.7895, \"Precision\": 0.8824, \"AUC\": 0.8038},\n",
    "    \"Decision Tree\": {\"Recall\": 0.5789, \"Precision\": 0.9167, \"AUC\": 0.7440}\n",
    "}\n",
    "\n",
    "# Creating a dataframe for comparison\n",
    "comparison_data = []\n",
    "for model in metrics_cv.keys():\n",
    "    for metric in metrics_cv[model].keys():\n",
    "        row = {\n",
    "            \"Model\": model,\n",
    "            \"Metric\": metric,\n",
    "            \"CV Value\": metrics_cv[model][metric],\n",
    "            \"Validation Value\": metrics_val[model][metric]\n",
    "        }\n",
    "        comparison_data.append(row)\n",
    "\n",
    "pd.DataFrame(comparison_data)"
   ]
  },
  {
   "cell_type": "markdown",
   "metadata": {
    "id": "-n4TW3S20KnZ"
   },
   "source": [
    "*    When comparing recall, logistic regression had the highest score on the validation set (**79.0%**). The decision tree had the lowest recall (**57.9%**). When prioritizing identifying missing true positives, logistic regression is the best model based on the results.\n",
    "*    When comparing precision, decision tree had the highest validation score (**91.7%**), which indicates it is the best model in terms of minimizing false positives. Logistic regression (**88.2%**) also performs well regarding precision, while KNN had the lowest score (**86.7%**).\n",
    "*    When comparing AUC, logistic regression had the highest validation score (**80.4%**) which indicates the best overall performance when comparing the different classes.\n",
    "*    Logistic regression is the best model, with the highest scores in recall and AUC, and the second highest score in precision. It is the most effective in identifying true positives while also maintaining a low rate of false positives.\n",
    "*    Decision tree had the highest precision but is behind the logistic regression in terms recall and AUC, which might indicate it is too conservative when predicting positive cases.\n",
    "*    KNN did not perform particularly well when compared to the other two models.\n",
    "*    The validation set was only thirty observations, with some unbalances in the response variable, when compared to the dataset the best models were trained on. This could be the cause of some unexpected behavior in the validation metrics. Overall, the logistic regression model showed the least amount of variation between the cross-validated and validation metrics."
   ]
  },
  {
   "cell_type": "markdown",
   "metadata": {
    "id": "IdyFimsfnnLJ"
   },
   "source": [
    "# **Part Five: Cohen’s Kappa**\n",
    "\n",
    "Another common metric used in classification is Cohen’s Kappa.\n",
    "\n",
    "Use online resources to research this measurement. Calculate it for the models from Part One, Q1-3, and discuss reasons or scenarios that would make us prefer to use this metric as our measure of model success. Do your conclusions from above change if you judge your models using Cohen’s Kappa instead? Does this make sense?"
   ]
  },
  {
   "cell_type": "code",
   "execution_count": 229,
   "metadata": {
    "id": "2AAwWQBvntsg"
   },
   "outputs": [],
   "source": [
    "from sklearn.metrics import cohen_kappa_score"
   ]
  },
  {
   "cell_type": "code",
   "execution_count": 230,
   "metadata": {
    "id": "72Pz19PpntqI"
   },
   "outputs": [],
   "source": [
    "# Getting cross-validated predictions on the full model for KNN, Logistic Regression, and Decision Tree\n",
    "y_pred_knn = cross_val_predict(best_model1, X, y, cv=5)\n",
    "y_pred_logreg = cross_val_predict(best_model2, X, y, cv=5)\n",
    "y_pred_dt = cross_val_predict(best_model3, X, y, cv=5)"
   ]
  },
  {
   "cell_type": "code",
   "execution_count": 231,
   "metadata": {
    "id": "4wst6RmAntoN"
   },
   "outputs": [],
   "source": [
    "kappa1 = cohen_kappa_score(y, y_pred_knn)\n",
    "kappa2 = cohen_kappa_score(y, y_pred_logreg)\n",
    "kappa3 = cohen_kappa_score(y, y_pred_dt)"
   ]
  },
  {
   "cell_type": "code",
   "execution_count": 232,
   "metadata": {
    "colab": {
     "base_uri": "https://localhost:8080/"
    },
    "id": "SI8IBiZYntlu",
    "outputId": "ec7c188d-b7bb-454a-e490-b6d8ecfdae2e"
   },
   "outputs": [
    {
     "name": "stdout",
     "output_type": "stream",
     "text": [
      "Cohen's Kappa Full Model Metrics:\n",
      "\n",
      "Kappa Value KNN: [0.4787]\n",
      "Kappa Coefficient of Determination KNN: [0.69]\n",
      "\n",
      "Kappa Logistic Regression: [0.5569]\n",
      "Kappa Coefficient of Determination Logistic Regression: [0.75]\n",
      "\n",
      "Kappa Decision Tree: [0.4064]\n",
      "Kappa Coefficient of Determination Decision Tree: [0.64]\n"
     ]
    }
   ],
   "source": [
    "print(f\"Cohen's Kappa Full Model Metrics:\\n\")\n",
    "print(f\"Kappa Value KNN: [{kappa1:.4f}]\")\n",
    "print(f\"Kappa Coefficient of Determination KNN: [{np.sqrt(kappa1):.2f}]\\n\")\n",
    "print(f\"Kappa Logistic Regression: [{kappa2:.4f}]\")\n",
    "print(f\"Kappa Coefficient of Determination Logistic Regression: [{np.sqrt(kappa2):.2f}]\\n\")\n",
    "print(f\"Kappa Decision Tree: [{kappa3:.4f}]\")\n",
    "print(f\"Kappa Coefficient of Determination Decision Tree: [{np.sqrt(kappa3):.2f}]\")"
   ]
  },
  {
   "cell_type": "markdown",
   "metadata": {
    "id": "binA6dqgOl3a"
   },
   "source": [
    "*    The highest Cohen's Kappa value was from the logistic regression model (0.5569), and this represented a moderate agreement between the model's predictions and its actual values. The lowest value was the decision tree model (0.4064), and this represented a fair agreement between the predictions and actual values.\n",
    "*    The logistic regression model is still the best model based on the Kappa scores. This makes sense as it is consistent with the other metrics reported and aligns with the conclusions drawn from them.\n",
    "*    Even the highest Kappa COD score of **75%** from the logistic regression model can be seen as problematic, especially in a healthcare setting. **25%** of the data in the full model represent faulty data and this would be unacceptable in terms of diagnosing what patients are at risk of heart attack.\n",
    "*    When kappa values are below 0.60, which represents moderate agreement, the confidence intervals about the kappa are wide enough that to state that almost **50%** of the data may be faulty. Statistical significance has no bearing when almost half of the data may be incorrect.\n",
    "*    In a healthcare setting, Cohen's Kappa would be the preferred classification model because it adjusts for any imbalances in the dataset as well as providing a more realistic analysis of the model's performance. The cost of incorrectly predicting a heart attack (false negative) is too great to accept moderate or adequate agreement between the predictions and actual values."
   ]
  }
 ],
 "metadata": {
  "colab": {
   "provenance": []
  },
  "kernelspec": {
   "display_name": "Python 3 (ipykernel)",
   "language": "python",
   "name": "python3"
  },
  "language_info": {
   "codemirror_mode": {
    "name": "ipython",
    "version": 3
   },
   "file_extension": ".py",
   "mimetype": "text/x-python",
   "name": "python",
   "nbconvert_exporter": "python",
   "pygments_lexer": "ipython3",
   "version": "3.11.4"
  }
 },
 "nbformat": 4,
 "nbformat_minor": 1
}
